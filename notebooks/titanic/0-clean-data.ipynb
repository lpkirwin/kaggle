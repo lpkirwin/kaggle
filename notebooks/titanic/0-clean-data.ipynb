{
 "cells": [
  {
   "cell_type": "code",
   "execution_count": 1,
   "metadata": {
    "ExecuteTime": {
     "end_time": "2019-03-07T23:46:32.864063Z",
     "start_time": "2019-03-07T23:46:31.643289Z"
    }
   },
   "outputs": [],
   "source": [
    "import pandas as pd\n",
    "import pandas_profiling as pp"
   ]
  },
  {
   "cell_type": "code",
   "execution_count": 2,
   "metadata": {
    "ExecuteTime": {
     "end_time": "2019-03-07T23:46:33.128586Z",
     "start_time": "2019-03-07T23:46:32.869014Z"
    }
   },
   "outputs": [],
   "source": [
    "%load_ext autoreload\n",
    "%autoreload 2"
   ]
  },
  {
   "cell_type": "code",
   "execution_count": 3,
   "metadata": {
    "ExecuteTime": {
     "end_time": "2019-03-07T23:46:33.336272Z",
     "start_time": "2019-03-07T23:46:33.131096Z"
    }
   },
   "outputs": [],
   "source": [
    "from src.util import set_context, raw_path, comp_path, reduce_mem_usage"
   ]
  },
  {
   "cell_type": "code",
   "execution_count": 4,
   "metadata": {
    "ExecuteTime": {
     "end_time": "2019-03-07T23:46:33.553812Z",
     "start_time": "2019-03-07T23:46:33.342204Z"
    }
   },
   "outputs": [
    {
     "name": "stdout",
     "output_type": "stream",
     "text": [
      "Files in data directory:\n",
      "______\n",
      "\n",
      "titanic/\n",
      "    clean.pkl\n",
      "    raw/\n",
      "        gender_submission.csv\n",
      "        test.csv\n",
      "        train.csv\n",
      "______\n",
      "\n"
     ]
    }
   ],
   "source": [
    "set_context(\"titanic\")"
   ]
  },
  {
   "cell_type": "code",
   "execution_count": 5,
   "metadata": {
    "ExecuteTime": {
     "end_time": "2019-03-07T23:46:33.987566Z",
     "start_time": "2019-03-07T23:46:33.561796Z"
    }
   },
   "outputs": [
    {
     "data": {
      "text/plain": [
       "((891, 12), (418, 11))"
      ]
     },
     "execution_count": 5,
     "metadata": {},
     "output_type": "execute_result"
    }
   ],
   "source": [
    "tr = pd.read_csv(raw_path(\"train.csv\"))\n",
    "te = pd.read_csv(raw_path(\"test.csv\"))\n",
    "tr.shape, te.shape"
   ]
  },
  {
   "cell_type": "code",
   "execution_count": 6,
   "metadata": {
    "ExecuteTime": {
     "end_time": "2019-03-07T23:46:34.149206Z",
     "start_time": "2019-03-07T23:46:33.991997Z"
    }
   },
   "outputs": [
    {
     "data": {
      "text/plain": [
       "'Survived'"
      ]
     },
     "execution_count": 6,
     "metadata": {},
     "output_type": "execute_result"
    }
   ],
   "source": [
    "col_diff = set(tr.columns).difference(te.columns)\n",
    "assert len(col_diff) == 1\n",
    "target_col = col_diff.pop()\n",
    "target_col"
   ]
  },
  {
   "cell_type": "code",
   "execution_count": 7,
   "metadata": {
    "ExecuteTime": {
     "end_time": "2019-03-07T23:46:34.314455Z",
     "start_time": "2019-03-07T23:46:34.152202Z"
    }
   },
   "outputs": [],
   "source": [
    "tr[\"_test\"] = False\n",
    "te[\"_test\"] = True"
   ]
  },
  {
   "cell_type": "code",
   "execution_count": 8,
   "metadata": {
    "ExecuteTime": {
     "end_time": "2019-03-07T23:46:34.480286Z",
     "start_time": "2019-03-07T23:46:34.317891Z"
    }
   },
   "outputs": [
    {
     "data": {
      "text/plain": [
       "(1309, 13)"
      ]
     },
     "execution_count": 8,
     "metadata": {},
     "output_type": "execute_result"
    }
   ],
   "source": [
    "df = pd.concat([tr, te], sort=True)\n",
    "df.shape"
   ]
  },
  {
   "cell_type": "code",
   "execution_count": 9,
   "metadata": {
    "ExecuteTime": {
     "end_time": "2019-03-07T23:46:34.660449Z",
     "start_time": "2019-03-07T23:46:34.484278Z"
    }
   },
   "outputs": [
    {
     "data": {
      "text/html": [
       "<div>\n",
       "<style scoped>\n",
       "    .dataframe tbody tr th:only-of-type {\n",
       "        vertical-align: middle;\n",
       "    }\n",
       "\n",
       "    .dataframe tbody tr th {\n",
       "        vertical-align: top;\n",
       "    }\n",
       "\n",
       "    .dataframe thead th {\n",
       "        text-align: right;\n",
       "    }\n",
       "</style>\n",
       "<table border=\"1\" class=\"dataframe\">\n",
       "  <thead>\n",
       "    <tr style=\"text-align: right;\">\n",
       "      <th></th>\n",
       "      <th>Age</th>\n",
       "      <th>Cabin</th>\n",
       "      <th>Embarked</th>\n",
       "      <th>Fare</th>\n",
       "      <th>Name</th>\n",
       "      <th>Parch</th>\n",
       "      <th>PassengerId</th>\n",
       "      <th>Pclass</th>\n",
       "      <th>Sex</th>\n",
       "      <th>SibSp</th>\n",
       "      <th>Survived</th>\n",
       "      <th>Ticket</th>\n",
       "      <th>_test</th>\n",
       "    </tr>\n",
       "  </thead>\n",
       "  <tbody>\n",
       "    <tr>\n",
       "      <th>642</th>\n",
       "      <td>2.0</td>\n",
       "      <td>NaN</td>\n",
       "      <td>S</td>\n",
       "      <td>27.9000</td>\n",
       "      <td>Skoog, Miss. Margit Elizabeth</td>\n",
       "      <td>2</td>\n",
       "      <td>643</td>\n",
       "      <td>3</td>\n",
       "      <td>female</td>\n",
       "      <td>3</td>\n",
       "      <td>0.0</td>\n",
       "      <td>347088</td>\n",
       "      <td>False</td>\n",
       "    </tr>\n",
       "    <tr>\n",
       "      <th>30</th>\n",
       "      <td>40.0</td>\n",
       "      <td>NaN</td>\n",
       "      <td>C</td>\n",
       "      <td>27.7208</td>\n",
       "      <td>Uruchurtu, Don. Manuel E</td>\n",
       "      <td>0</td>\n",
       "      <td>31</td>\n",
       "      <td>1</td>\n",
       "      <td>male</td>\n",
       "      <td>0</td>\n",
       "      <td>0.0</td>\n",
       "      <td>PC 17601</td>\n",
       "      <td>False</td>\n",
       "    </tr>\n",
       "    <tr>\n",
       "      <th>433</th>\n",
       "      <td>17.0</td>\n",
       "      <td>NaN</td>\n",
       "      <td>S</td>\n",
       "      <td>7.1250</td>\n",
       "      <td>Kallio, Mr. Nikolai Erland</td>\n",
       "      <td>0</td>\n",
       "      <td>434</td>\n",
       "      <td>3</td>\n",
       "      <td>male</td>\n",
       "      <td>0</td>\n",
       "      <td>0.0</td>\n",
       "      <td>STON/O 2. 3101274</td>\n",
       "      <td>False</td>\n",
       "    </tr>\n",
       "    <tr>\n",
       "      <th>479</th>\n",
       "      <td>2.0</td>\n",
       "      <td>NaN</td>\n",
       "      <td>S</td>\n",
       "      <td>12.2875</td>\n",
       "      <td>Hirvonen, Miss. Hildur E</td>\n",
       "      <td>1</td>\n",
       "      <td>480</td>\n",
       "      <td>3</td>\n",
       "      <td>female</td>\n",
       "      <td>0</td>\n",
       "      <td>1.0</td>\n",
       "      <td>3101298</td>\n",
       "      <td>False</td>\n",
       "    </tr>\n",
       "    <tr>\n",
       "      <th>437</th>\n",
       "      <td>24.0</td>\n",
       "      <td>NaN</td>\n",
       "      <td>S</td>\n",
       "      <td>18.7500</td>\n",
       "      <td>Richards, Mrs. Sidney (Emily Hocking)</td>\n",
       "      <td>3</td>\n",
       "      <td>438</td>\n",
       "      <td>2</td>\n",
       "      <td>female</td>\n",
       "      <td>2</td>\n",
       "      <td>1.0</td>\n",
       "      <td>29106</td>\n",
       "      <td>False</td>\n",
       "    </tr>\n",
       "    <tr>\n",
       "      <th>570</th>\n",
       "      <td>62.0</td>\n",
       "      <td>NaN</td>\n",
       "      <td>S</td>\n",
       "      <td>10.5000</td>\n",
       "      <td>Harris, Mr. George</td>\n",
       "      <td>0</td>\n",
       "      <td>571</td>\n",
       "      <td>2</td>\n",
       "      <td>male</td>\n",
       "      <td>0</td>\n",
       "      <td>1.0</td>\n",
       "      <td>S.W./PP 752</td>\n",
       "      <td>False</td>\n",
       "    </tr>\n",
       "    <tr>\n",
       "      <th>667</th>\n",
       "      <td>NaN</td>\n",
       "      <td>NaN</td>\n",
       "      <td>S</td>\n",
       "      <td>7.7750</td>\n",
       "      <td>Rommetvedt, Mr. Knud Paust</td>\n",
       "      <td>0</td>\n",
       "      <td>668</td>\n",
       "      <td>3</td>\n",
       "      <td>male</td>\n",
       "      <td>0</td>\n",
       "      <td>0.0</td>\n",
       "      <td>312993</td>\n",
       "      <td>False</td>\n",
       "    </tr>\n",
       "    <tr>\n",
       "      <th>154</th>\n",
       "      <td>13.0</td>\n",
       "      <td>NaN</td>\n",
       "      <td>S</td>\n",
       "      <td>31.3875</td>\n",
       "      <td>Asplund, Master. Filip Oscar</td>\n",
       "      <td>2</td>\n",
       "      <td>1046</td>\n",
       "      <td>3</td>\n",
       "      <td>male</td>\n",
       "      <td>4</td>\n",
       "      <td>NaN</td>\n",
       "      <td>347077</td>\n",
       "      <td>True</td>\n",
       "    </tr>\n",
       "    <tr>\n",
       "      <th>362</th>\n",
       "      <td>31.0</td>\n",
       "      <td>NaN</td>\n",
       "      <td>S</td>\n",
       "      <td>21.0000</td>\n",
       "      <td>Ware, Mrs. John James (Florence Louise Long)</td>\n",
       "      <td>0</td>\n",
       "      <td>1254</td>\n",
       "      <td>2</td>\n",
       "      <td>female</td>\n",
       "      <td>0</td>\n",
       "      <td>NaN</td>\n",
       "      <td>CA 31352</td>\n",
       "      <td>True</td>\n",
       "    </tr>\n",
       "    <tr>\n",
       "      <th>193</th>\n",
       "      <td>61.0</td>\n",
       "      <td>NaN</td>\n",
       "      <td>Q</td>\n",
       "      <td>12.3500</td>\n",
       "      <td>Lingane, Mr. John</td>\n",
       "      <td>0</td>\n",
       "      <td>1085</td>\n",
       "      <td>2</td>\n",
       "      <td>male</td>\n",
       "      <td>0</td>\n",
       "      <td>NaN</td>\n",
       "      <td>235509</td>\n",
       "      <td>True</td>\n",
       "    </tr>\n",
       "  </tbody>\n",
       "</table>\n",
       "</div>"
      ],
      "text/plain": [
       "      Age Cabin Embarked     Fare  \\\n",
       "642   2.0   NaN        S  27.9000   \n",
       "30   40.0   NaN        C  27.7208   \n",
       "433  17.0   NaN        S   7.1250   \n",
       "479   2.0   NaN        S  12.2875   \n",
       "437  24.0   NaN        S  18.7500   \n",
       "570  62.0   NaN        S  10.5000   \n",
       "667   NaN   NaN        S   7.7750   \n",
       "154  13.0   NaN        S  31.3875   \n",
       "362  31.0   NaN        S  21.0000   \n",
       "193  61.0   NaN        Q  12.3500   \n",
       "\n",
       "                                             Name  Parch  PassengerId  Pclass  \\\n",
       "642                 Skoog, Miss. Margit Elizabeth      2          643       3   \n",
       "30                       Uruchurtu, Don. Manuel E      0           31       1   \n",
       "433                    Kallio, Mr. Nikolai Erland      0          434       3   \n",
       "479                      Hirvonen, Miss. Hildur E      1          480       3   \n",
       "437         Richards, Mrs. Sidney (Emily Hocking)      3          438       2   \n",
       "570                            Harris, Mr. George      0          571       2   \n",
       "667                    Rommetvedt, Mr. Knud Paust      0          668       3   \n",
       "154                  Asplund, Master. Filip Oscar      2         1046       3   \n",
       "362  Ware, Mrs. John James (Florence Louise Long)      0         1254       2   \n",
       "193                             Lingane, Mr. John      0         1085       2   \n",
       "\n",
       "        Sex  SibSp  Survived             Ticket  _test  \n",
       "642  female      3       0.0             347088  False  \n",
       "30     male      0       0.0           PC 17601  False  \n",
       "433    male      0       0.0  STON/O 2. 3101274  False  \n",
       "479  female      0       1.0            3101298  False  \n",
       "437  female      2       1.0              29106  False  \n",
       "570    male      0       1.0        S.W./PP 752  False  \n",
       "667    male      0       0.0             312993  False  \n",
       "154    male      4       NaN             347077   True  \n",
       "362  female      0       NaN           CA 31352   True  \n",
       "193    male      0       NaN             235509   True  "
      ]
     },
     "execution_count": 9,
     "metadata": {},
     "output_type": "execute_result"
    }
   ],
   "source": [
    "df.sample(10).sort_values(\"_test\")"
   ]
  },
  {
   "cell_type": "code",
   "execution_count": 10,
   "metadata": {
    "ExecuteTime": {
     "end_time": "2019-03-07T23:46:34.839118Z",
     "start_time": "2019-03-07T23:46:34.664442Z"
    }
   },
   "outputs": [
    {
     "name": "stdout",
     "output_type": "stream",
     "text": [
      "<class 'pandas.core.frame.DataFrame'>\n",
      "Int64Index: 1309 entries, 0 to 417\n",
      "Data columns (total 13 columns):\n",
      "Age            1046 non-null float64\n",
      "Cabin          295 non-null object\n",
      "Embarked       1307 non-null object\n",
      "Fare           1308 non-null float64\n",
      "Name           1309 non-null object\n",
      "Parch          1309 non-null int64\n",
      "PassengerId    1309 non-null int64\n",
      "Pclass         1309 non-null int64\n",
      "Sex            1309 non-null object\n",
      "SibSp          1309 non-null int64\n",
      "Survived       891 non-null float64\n",
      "Ticket         1309 non-null object\n",
      "_test          1309 non-null bool\n",
      "dtypes: bool(1), float64(3), int64(4), object(5)\n",
      "memory usage: 479.5 KB\n"
     ]
    }
   ],
   "source": [
    "df.info(memory_usage=\"deep\")"
   ]
  },
  {
   "cell_type": "code",
   "execution_count": 11,
   "metadata": {
    "ExecuteTime": {
     "end_time": "2019-03-07T23:46:35.011817Z",
     "start_time": "2019-03-07T23:46:34.843609Z"
    }
   },
   "outputs": [
    {
     "name": "stdout",
     "output_type": "stream",
     "text": [
      "Mem. usage decreased to  0.07 Mb (42.9% reduction)\n"
     ]
    }
   ],
   "source": [
    "df = reduce_mem_usage(df)"
   ]
  },
  {
   "cell_type": "code",
   "execution_count": 12,
   "metadata": {
    "ExecuteTime": {
     "end_time": "2019-03-07T23:46:35.187218Z",
     "start_time": "2019-03-07T23:46:35.015789Z"
    }
   },
   "outputs": [
    {
     "name": "stdout",
     "output_type": "stream",
     "text": [
      "Cabin: 186 unique values\n",
      "Embarked: 3 unique values\n",
      "Name: 1307 unique values\n",
      "Sex: 2 unique values\n",
      "Ticket: 929 unique values\n"
     ]
    }
   ],
   "source": [
    "obj_cols = df.select_dtypes(\"object\").columns.tolist()\n",
    "for col in obj_cols:\n",
    "    print(f\"{col}: {df[col].nunique()} unique values\")\n",
    "    df[col] = df[col].astype(\"category\")"
   ]
  },
  {
   "cell_type": "code",
   "execution_count": 13,
   "metadata": {
    "ExecuteTime": {
     "end_time": "2019-03-07T23:46:35.378882Z",
     "start_time": "2019-03-07T23:46:35.190715Z"
    }
   },
   "outputs": [
    {
     "data": {
      "text/html": [
       "<div>\n",
       "<style scoped>\n",
       "    .dataframe tbody tr th:only-of-type {\n",
       "        vertical-align: middle;\n",
       "    }\n",
       "\n",
       "    .dataframe tbody tr th {\n",
       "        vertical-align: top;\n",
       "    }\n",
       "\n",
       "    .dataframe thead th {\n",
       "        text-align: right;\n",
       "    }\n",
       "</style>\n",
       "<table border=\"1\" class=\"dataframe\">\n",
       "  <thead>\n",
       "    <tr style=\"text-align: right;\">\n",
       "      <th></th>\n",
       "      <th>Age</th>\n",
       "      <th>Fare</th>\n",
       "      <th>Parch</th>\n",
       "      <th>PassengerId</th>\n",
       "      <th>Pclass</th>\n",
       "      <th>SibSp</th>\n",
       "      <th>Survived</th>\n",
       "    </tr>\n",
       "  </thead>\n",
       "  <tbody>\n",
       "    <tr>\n",
       "      <th>count</th>\n",
       "      <td>1046.000000</td>\n",
       "      <td>1308.000000</td>\n",
       "      <td>1309.000000</td>\n",
       "      <td>1309.000000</td>\n",
       "      <td>1309.000000</td>\n",
       "      <td>1309.000000</td>\n",
       "      <td>891.000000</td>\n",
       "    </tr>\n",
       "    <tr>\n",
       "      <th>mean</th>\n",
       "      <td>29.875000</td>\n",
       "      <td>33.281250</td>\n",
       "      <td>0.385027</td>\n",
       "      <td>655.000000</td>\n",
       "      <td>2.294882</td>\n",
       "      <td>0.498854</td>\n",
       "      <td>0.383789</td>\n",
       "    </tr>\n",
       "    <tr>\n",
       "      <th>std</th>\n",
       "      <td>14.414062</td>\n",
       "      <td>inf</td>\n",
       "      <td>0.865560</td>\n",
       "      <td>378.020061</td>\n",
       "      <td>0.837836</td>\n",
       "      <td>1.041658</td>\n",
       "      <td>0.486572</td>\n",
       "    </tr>\n",
       "    <tr>\n",
       "      <th>min</th>\n",
       "      <td>0.170044</td>\n",
       "      <td>0.000000</td>\n",
       "      <td>0.000000</td>\n",
       "      <td>1.000000</td>\n",
       "      <td>1.000000</td>\n",
       "      <td>0.000000</td>\n",
       "      <td>0.000000</td>\n",
       "    </tr>\n",
       "    <tr>\n",
       "      <th>25%</th>\n",
       "      <td>21.000000</td>\n",
       "      <td>7.894531</td>\n",
       "      <td>0.000000</td>\n",
       "      <td>328.000000</td>\n",
       "      <td>2.000000</td>\n",
       "      <td>0.000000</td>\n",
       "      <td>0.000000</td>\n",
       "    </tr>\n",
       "    <tr>\n",
       "      <th>50%</th>\n",
       "      <td>28.000000</td>\n",
       "      <td>14.453125</td>\n",
       "      <td>0.000000</td>\n",
       "      <td>655.000000</td>\n",
       "      <td>3.000000</td>\n",
       "      <td>0.000000</td>\n",
       "      <td>0.000000</td>\n",
       "    </tr>\n",
       "    <tr>\n",
       "      <th>75%</th>\n",
       "      <td>39.000000</td>\n",
       "      <td>31.281250</td>\n",
       "      <td>0.000000</td>\n",
       "      <td>982.000000</td>\n",
       "      <td>3.000000</td>\n",
       "      <td>1.000000</td>\n",
       "      <td>1.000000</td>\n",
       "    </tr>\n",
       "    <tr>\n",
       "      <th>max</th>\n",
       "      <td>80.000000</td>\n",
       "      <td>512.500000</td>\n",
       "      <td>9.000000</td>\n",
       "      <td>1309.000000</td>\n",
       "      <td>3.000000</td>\n",
       "      <td>8.000000</td>\n",
       "      <td>1.000000</td>\n",
       "    </tr>\n",
       "  </tbody>\n",
       "</table>\n",
       "</div>"
      ],
      "text/plain": [
       "               Age         Fare        Parch  PassengerId       Pclass  \\\n",
       "count  1046.000000  1308.000000  1309.000000  1309.000000  1309.000000   \n",
       "mean     29.875000    33.281250     0.385027   655.000000     2.294882   \n",
       "std      14.414062          inf     0.865560   378.020061     0.837836   \n",
       "min       0.170044     0.000000     0.000000     1.000000     1.000000   \n",
       "25%      21.000000     7.894531     0.000000   328.000000     2.000000   \n",
       "50%      28.000000    14.453125     0.000000   655.000000     3.000000   \n",
       "75%      39.000000    31.281250     0.000000   982.000000     3.000000   \n",
       "max      80.000000   512.500000     9.000000  1309.000000     3.000000   \n",
       "\n",
       "             SibSp    Survived  \n",
       "count  1309.000000  891.000000  \n",
       "mean      0.498854    0.383789  \n",
       "std       1.041658    0.486572  \n",
       "min       0.000000    0.000000  \n",
       "25%       0.000000    0.000000  \n",
       "50%       0.000000    0.000000  \n",
       "75%       1.000000    1.000000  \n",
       "max       8.000000    1.000000  "
      ]
     },
     "execution_count": 13,
     "metadata": {},
     "output_type": "execute_result"
    }
   ],
   "source": [
    "df.describe()"
   ]
  },
  {
   "cell_type": "code",
   "execution_count": 14,
   "metadata": {
    "ExecuteTime": {
     "end_time": "2019-03-07T23:46:35.548130Z",
     "start_time": "2019-03-07T23:46:35.382356Z"
    }
   },
   "outputs": [],
   "source": [
    "# pp.ProfileReport(df)"
   ]
  },
  {
   "cell_type": "code",
   "execution_count": 15,
   "metadata": {
    "ExecuteTime": {
     "end_time": "2019-03-07T23:46:35.715349Z",
     "start_time": "2019-03-07T23:46:35.551638Z"
    }
   },
   "outputs": [],
   "source": [
    "df.to_pickle(comp_path(\"clean.pkl\"))"
   ]
  }
 ],
 "metadata": {
  "jupytext": {
   "formats": "ipynb,py:percent"
  },
  "kernelspec": {
   "display_name": "kaggle",
   "language": "python",
   "name": "kaggle"
  },
  "language_info": {
   "codemirror_mode": {
    "name": "ipython",
    "version": 3
   },
   "file_extension": ".py",
   "mimetype": "text/x-python",
   "name": "python",
   "nbconvert_exporter": "python",
   "pygments_lexer": "ipython3",
   "version": "3.7.2"
  },
  "toc": {
   "base_numbering": 1,
   "nav_menu": {},
   "number_sections": true,
   "sideBar": true,
   "skip_h1_title": false,
   "title_cell": "Table of Contents",
   "title_sidebar": "Contents",
   "toc_cell": false,
   "toc_position": {},
   "toc_section_display": true,
   "toc_window_display": false
  }
 },
 "nbformat": 4,
 "nbformat_minor": 2
}
