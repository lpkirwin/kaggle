{
 "cells": [
  {
   "cell_type": "code",
   "execution_count": 1,
   "metadata": {
    "ExecuteTime": {
     "end_time": "2019-03-08T00:38:16.983794Z",
     "start_time": "2019-03-08T00:38:16.218213Z"
    }
   },
   "outputs": [],
   "source": [
    "import pandas as pd"
   ]
  },
  {
   "cell_type": "code",
   "execution_count": 2,
   "metadata": {
    "ExecuteTime": {
     "end_time": "2019-03-08T00:38:17.412995Z",
     "start_time": "2019-03-08T00:38:17.207377Z"
    }
   },
   "outputs": [],
   "source": [
    "from src import util"
   ]
  },
  {
   "cell_type": "code",
   "execution_count": 3,
   "metadata": {
    "ExecuteTime": {
     "end_time": "2019-03-08T00:38:18.636277Z",
     "start_time": "2019-03-08T00:38:17.418485Z"
    }
   },
   "outputs": [
    {
     "name": "stderr",
     "output_type": "stream",
     "text": [
      "/home/lpkirwin/miniconda/envs/kaggle/lib/python3.7/site-packages/sklearn/externals/joblib/__init__.py:15: DeprecationWarning: sklearn.externals.joblib is deprecated in 0.21 and will be removed in 0.23. Please import this functionality directly from joblib, which can be installed with: pip install joblib. If this warning is raised when loading pickled models, you may need to re-serialize those models with scikit-learn 0.21+.\n",
      "  warnings.warn(msg, category=DeprecationWarning)\n"
     ]
    }
   ],
   "source": [
    "from src.models import PARAMS_SKOPT, BayesSearchCV2"
   ]
  },
  {
   "cell_type": "code",
   "execution_count": 4,
   "metadata": {
    "ExecuteTime": {
     "end_time": "2019-03-16T17:44:32.471418Z",
     "start_time": "2019-03-16T17:44:19.969959Z"
    }
   },
   "outputs": [],
   "source": [
    "from tqdm import tqdm\n",
    "from skopt import BayesSearchCV\n",
    "from lightgbm import LGBMClassifier\n",
    "from sklearn.model_selection import cross_val_predict"
   ]
  },
  {
   "cell_type": "code",
   "execution_count": 5,
   "metadata": {
    "ExecuteTime": {
     "end_time": "2019-03-16T18:03:43.471735Z",
     "start_time": "2019-03-16T18:03:43.216883Z"
    }
   },
   "outputs": [],
   "source": [
    "%load_ext autoreload\n",
    "%autoreload 2"
   ]
  },
  {
   "cell_type": "code",
   "execution_count": 6,
   "metadata": {
    "ExecuteTime": {
     "end_time": "2019-03-08T00:38:19.211458Z",
     "start_time": "2019-03-08T00:38:19.001846Z"
    }
   },
   "outputs": [
    {
     "name": "stdout",
     "output_type": "stream",
     "text": [
      "Files in data directory:\n",
      "______\n",
      "\n",
      "ieee_fraud_detection/\n",
      "    comb.pkl\n",
      "    raw/\n",
      "        train_transaction.csv.zip\n",
      "        train_identity.csv.zip\n",
      "        test_transaction.csv.zip\n",
      "        test_identity.csv.zip\n",
      "        sample_submission.csv.zip\n",
      "        train_transaction.csv\n",
      "        train_identity.csv\n",
      "        test_transaction.csv\n",
      "        test_identity.csv\n",
      "        sample_submission.csv\n",
      "______\n",
      "\n"
     ]
    }
   ],
   "source": [
    "util.set_context(\"ieee_fraud_detection\")"
   ]
  },
  {
   "cell_type": "code",
   "execution_count": 7,
   "metadata": {
    "ExecuteTime": {
     "end_time": "2019-03-08T00:38:19.413086Z",
     "start_time": "2019-03-08T00:38:19.214951Z"
    }
   },
   "outputs": [
    {
     "data": {
      "text/plain": [
       "(1097231, 435)"
      ]
     },
     "execution_count": 7,
     "metadata": {},
     "output_type": "execute_result"
    }
   ],
   "source": [
    "df = pd.read_pickle(util.get_dpath(\"comb.pkl\"))\n",
    "df.shape"
   ]
  },
  {
   "cell_type": "code",
   "execution_count": 8,
   "metadata": {},
   "outputs": [],
   "source": [
    "useful_features = ['TransactionAmt', 'ProductCD', 'card1', 'card2', 'card3', 'card4', 'card5', 'card6', 'addr1', 'addr2', 'dist1',\n",
    "                   'P_emaildomain', 'R_emaildomain', 'C1', 'C2', 'C4', 'C5', 'C6', 'C7', 'C8', 'C9', 'C10', 'C11', 'C12', 'C13',\n",
    "                   'C14', 'D1', 'D2', 'D3', 'D4', 'D5', 'D6', 'D8', 'D9', 'D10', 'D11', 'D12', 'D13', 'D14', 'D15', 'M2', 'M3',\n",
    "                   'M4', 'M5', 'M6', 'M7', 'M8', 'M9', 'V3', 'V4', 'V5', 'V6', 'V7', 'V8', 'V9', 'V10', 'V11', 'V12', 'V13', 'V17',\n",
    "                   'V19', 'V20', 'V29', 'V30', 'V33', 'V34', 'V35', 'V36', 'V37', 'V38', 'V40', 'V44', 'V45', 'V46', 'V47', 'V48',\n",
    "                   'V49', 'V51', 'V52', 'V53', 'V54', 'V56', 'V58', 'V59', 'V60', 'V61', 'V62', 'V63', 'V64', 'V69', 'V70', 'V71',\n",
    "                   'V72', 'V73', 'V74', 'V75', 'V76', 'V78', 'V80', 'V81', 'V82', 'V83', 'V84', 'V85', 'V87', 'V90', 'V91', 'V92',\n",
    "                   'V93', 'V94', 'V95', 'V96', 'V97', 'V99', 'V100', 'V126', 'V127', 'V128', 'V130', 'V131', 'V138', 'V139', 'V140',\n",
    "                   'V143', 'V145', 'V146', 'V147', 'V149', 'V150', 'V151', 'V152', 'V154', 'V156', 'V158', 'V159', 'V160', 'V161',\n",
    "                   'V162', 'V163', 'V164', 'V165', 'V166', 'V167', 'V169', 'V170', 'V171', 'V172', 'V173', 'V175', 'V176', 'V177',\n",
    "                   'V178', 'V180', 'V182', 'V184', 'V187', 'V188', 'V189', 'V195', 'V197', 'V200', 'V201', 'V202', 'V203', 'V204',\n",
    "                   'V205', 'V206', 'V207', 'V208', 'V209', 'V210', 'V212', 'V213', 'V214', 'V215', 'V216', 'V217', 'V219', 'V220',\n",
    "                   'V221', 'V222', 'V223', 'V224', 'V225', 'V226', 'V227', 'V228', 'V229', 'V231', 'V233', 'V234', 'V238', 'V239',\n",
    "                   'V242', 'V243', 'V244', 'V245', 'V246', 'V247', 'V249', 'V251', 'V253', 'V256', 'V257', 'V258', 'V259', 'V261',\n",
    "                   'V262', 'V263', 'V264', 'V265', 'V266', 'V267', 'V268', 'V270', 'V271', 'V272', 'V273', 'V274', 'V275', 'V276',\n",
    "                   'V277', 'V278', 'V279', 'V280', 'V282', 'V283', 'V285', 'V287', 'V288', 'V289', 'V291', 'V292', 'V294', 'V303',\n",
    "                   'V304', 'V306', 'V307', 'V308', 'V310', 'V312', 'V313', 'V314', 'V315', 'V317', 'V322', 'V323', 'V324', 'V326',\n",
    "                   'V329', 'V331', 'V332', 'V333', 'V335', 'V336', 'V338', 'id_01', 'id_02', 'id_03', 'id_05', 'id_06', 'id_09',\n",
    "                   'id_11', 'id_12', 'id_13', 'id_14', 'id_15', 'id_17', 'id_19', 'id_20', 'id_30', 'id_31', 'id_32', 'id_33',\n",
    "                   'id_36', 'id_37', 'id_38', 'DeviceType', 'DeviceInfo', \"test_\", \"isFraud\"]\n",
    "\n",
    "df = df[useful_features]"
   ]
  },
  {
   "cell_type": "code",
   "execution_count": 9,
   "metadata": {},
   "outputs": [
    {
     "data": {
      "text/html": [
       "<div>\n",
       "<style scoped>\n",
       "    .dataframe tbody tr th:only-of-type {\n",
       "        vertical-align: middle;\n",
       "    }\n",
       "\n",
       "    .dataframe tbody tr th {\n",
       "        vertical-align: top;\n",
       "    }\n",
       "\n",
       "    .dataframe thead th {\n",
       "        text-align: right;\n",
       "    }\n",
       "</style>\n",
       "<table border=\"1\" class=\"dataframe\">\n",
       "  <thead>\n",
       "    <tr style=\"text-align: right;\">\n",
       "      <th></th>\n",
       "      <th>TransactionAmt</th>\n",
       "      <th>ProductCD</th>\n",
       "      <th>card1</th>\n",
       "      <th>card2</th>\n",
       "      <th>card3</th>\n",
       "      <th>card4</th>\n",
       "      <th>card5</th>\n",
       "      <th>card6</th>\n",
       "      <th>addr1</th>\n",
       "      <th>addr2</th>\n",
       "      <th>...</th>\n",
       "      <th>id_31</th>\n",
       "      <th>id_32</th>\n",
       "      <th>id_33</th>\n",
       "      <th>id_36</th>\n",
       "      <th>id_37</th>\n",
       "      <th>id_38</th>\n",
       "      <th>DeviceType</th>\n",
       "      <th>DeviceInfo</th>\n",
       "      <th>test_</th>\n",
       "      <th>isFraud</th>\n",
       "    </tr>\n",
       "  </thead>\n",
       "  <tbody>\n",
       "    <tr>\n",
       "      <th>0</th>\n",
       "      <td>68.5</td>\n",
       "      <td>W</td>\n",
       "      <td>13926</td>\n",
       "      <td>NaN</td>\n",
       "      <td>150.0</td>\n",
       "      <td>discover</td>\n",
       "      <td>142.0</td>\n",
       "      <td>credit</td>\n",
       "      <td>315.0</td>\n",
       "      <td>87.0</td>\n",
       "      <td>...</td>\n",
       "      <td>NaN</td>\n",
       "      <td>NaN</td>\n",
       "      <td>NaN</td>\n",
       "      <td>NaN</td>\n",
       "      <td>NaN</td>\n",
       "      <td>NaN</td>\n",
       "      <td>NaN</td>\n",
       "      <td>NaN</td>\n",
       "      <td>False</td>\n",
       "      <td>0.0</td>\n",
       "    </tr>\n",
       "    <tr>\n",
       "      <th>1</th>\n",
       "      <td>29.0</td>\n",
       "      <td>W</td>\n",
       "      <td>2755</td>\n",
       "      <td>404.0</td>\n",
       "      <td>150.0</td>\n",
       "      <td>mastercard</td>\n",
       "      <td>102.0</td>\n",
       "      <td>credit</td>\n",
       "      <td>325.0</td>\n",
       "      <td>87.0</td>\n",
       "      <td>...</td>\n",
       "      <td>NaN</td>\n",
       "      <td>NaN</td>\n",
       "      <td>NaN</td>\n",
       "      <td>NaN</td>\n",
       "      <td>NaN</td>\n",
       "      <td>NaN</td>\n",
       "      <td>NaN</td>\n",
       "      <td>NaN</td>\n",
       "      <td>False</td>\n",
       "      <td>0.0</td>\n",
       "    </tr>\n",
       "  </tbody>\n",
       "</table>\n",
       "<p>2 rows × 281 columns</p>\n",
       "</div>"
      ],
      "text/plain": [
       "   TransactionAmt ProductCD  card1  card2  card3       card4  card5   card6  \\\n",
       "0            68.5         W  13926    NaN  150.0    discover  142.0  credit   \n",
       "1            29.0         W   2755  404.0  150.0  mastercard  102.0  credit   \n",
       "\n",
       "   addr1  addr2  ...  id_31 id_32 id_33  id_36  id_37  id_38  DeviceType  \\\n",
       "0  315.0   87.0  ...    NaN   NaN   NaN    NaN    NaN    NaN         NaN   \n",
       "1  325.0   87.0  ...    NaN   NaN   NaN    NaN    NaN    NaN         NaN   \n",
       "\n",
       "   DeviceInfo  test_  isFraud  \n",
       "0         NaN  False      0.0  \n",
       "1         NaN  False      0.0  \n",
       "\n",
       "[2 rows x 281 columns]"
      ]
     },
     "execution_count": 9,
     "metadata": {},
     "output_type": "execute_result"
    }
   ],
   "source": [
    "df.head(2)"
   ]
  },
  {
   "cell_type": "code",
   "execution_count": 10,
   "metadata": {},
   "outputs": [
    {
     "data": {
      "text/plain": [
       "(1097231, 281)"
      ]
     },
     "execution_count": 10,
     "metadata": {},
     "output_type": "execute_result"
    }
   ],
   "source": [
    "df.shape"
   ]
  },
  {
   "cell_type": "code",
   "execution_count": 11,
   "metadata": {},
   "outputs": [
    {
     "data": {
      "text/plain": [
       "TransactionAmt     float16\n",
       "ProductCD         category\n",
       "card1                int16\n",
       "card2              float16\n",
       "card3              float16\n",
       "                    ...   \n",
       "id_38             category\n",
       "DeviceType        category\n",
       "DeviceInfo        category\n",
       "test_                 bool\n",
       "isFraud            float64\n",
       "Length: 281, dtype: object"
      ]
     },
     "execution_count": 11,
     "metadata": {},
     "output_type": "execute_result"
    }
   ],
   "source": [
    "df.dtypes"
   ]
  },
  {
   "cell_type": "code",
   "execution_count": 12,
   "metadata": {},
   "outputs": [],
   "source": [
    "df[\"card1_count_enc\"] = df.groupby(\"card1\").test_.transform(\"count\")"
   ]
  },
  {
   "cell_type": "code",
   "execution_count": 13,
   "metadata": {},
   "outputs": [
    {
     "name": "stderr",
     "output_type": "stream",
     "text": [
      "100%|██████████| 23/23 [00:00<00:00, 818.36it/s]\n"
     ]
    }
   ],
   "source": [
    "cat_cols = df.select_dtypes(\"category\").columns\n",
    "\n",
    "for col in tqdm(cat_cols):\n",
    "    df[col] = df[col].cat.codes"
   ]
  },
  {
   "cell_type": "code",
   "execution_count": 14,
   "metadata": {
    "ExecuteTime": {
     "end_time": "2019-03-08T00:38:19.606724Z",
     "start_time": "2019-03-08T00:38:19.416577Z"
    }
   },
   "outputs": [
    {
     "data": {
      "text/plain": [
       "(590540, 282)"
      ]
     },
     "execution_count": 14,
     "metadata": {},
     "output_type": "execute_result"
    }
   ],
   "source": [
    "tr = df[~df.test_]\n",
    "tr.shape"
   ]
  },
  {
   "cell_type": "code",
   "execution_count": 15,
   "metadata": {},
   "outputs": [],
   "source": [
    "tr = tr.sample(100_000)"
   ]
  },
  {
   "cell_type": "code",
   "execution_count": 16,
   "metadata": {
    "ExecuteTime": {
     "end_time": "2019-03-08T00:38:19.820826Z",
     "start_time": "2019-03-08T00:38:19.609720Z"
    }
   },
   "outputs": [
    {
     "data": {
      "text/html": [
       "<div>\n",
       "<style scoped>\n",
       "    .dataframe tbody tr th:only-of-type {\n",
       "        vertical-align: middle;\n",
       "    }\n",
       "\n",
       "    .dataframe tbody tr th {\n",
       "        vertical-align: top;\n",
       "    }\n",
       "\n",
       "    .dataframe thead th {\n",
       "        text-align: right;\n",
       "    }\n",
       "</style>\n",
       "<table border=\"1\" class=\"dataframe\">\n",
       "  <thead>\n",
       "    <tr style=\"text-align: right;\">\n",
       "      <th></th>\n",
       "      <th>TransactionAmt</th>\n",
       "      <th>ProductCD</th>\n",
       "      <th>card1</th>\n",
       "      <th>card2</th>\n",
       "      <th>card3</th>\n",
       "      <th>card4</th>\n",
       "      <th>card5</th>\n",
       "      <th>card6</th>\n",
       "      <th>addr1</th>\n",
       "      <th>addr2</th>\n",
       "      <th>...</th>\n",
       "      <th>id_32</th>\n",
       "      <th>id_33</th>\n",
       "      <th>id_36</th>\n",
       "      <th>id_37</th>\n",
       "      <th>id_38</th>\n",
       "      <th>DeviceType</th>\n",
       "      <th>DeviceInfo</th>\n",
       "      <th>test_</th>\n",
       "      <th>isFraud</th>\n",
       "      <th>card1_count_enc</th>\n",
       "    </tr>\n",
       "  </thead>\n",
       "  <tbody>\n",
       "    <tr>\n",
       "      <th>142429</th>\n",
       "      <td>117.0</td>\n",
       "      <td>4</td>\n",
       "      <td>15845</td>\n",
       "      <td>111.0</td>\n",
       "      <td>150.0</td>\n",
       "      <td>2</td>\n",
       "      <td>195.0</td>\n",
       "      <td>2</td>\n",
       "      <td>272.0</td>\n",
       "      <td>87.0</td>\n",
       "      <td>...</td>\n",
       "      <td>NaN</td>\n",
       "      <td>-1</td>\n",
       "      <td>-1</td>\n",
       "      <td>-1</td>\n",
       "      <td>-1</td>\n",
       "      <td>-1</td>\n",
       "      <td>-1</td>\n",
       "      <td>False</td>\n",
       "      <td>0.0</td>\n",
       "      <td>119</td>\n",
       "    </tr>\n",
       "    <tr>\n",
       "      <th>377360</th>\n",
       "      <td>39.0</td>\n",
       "      <td>4</td>\n",
       "      <td>9500</td>\n",
       "      <td>321.0</td>\n",
       "      <td>150.0</td>\n",
       "      <td>3</td>\n",
       "      <td>226.0</td>\n",
       "      <td>2</td>\n",
       "      <td>272.0</td>\n",
       "      <td>87.0</td>\n",
       "      <td>...</td>\n",
       "      <td>NaN</td>\n",
       "      <td>-1</td>\n",
       "      <td>-1</td>\n",
       "      <td>-1</td>\n",
       "      <td>-1</td>\n",
       "      <td>-1</td>\n",
       "      <td>-1</td>\n",
       "      <td>False</td>\n",
       "      <td>0.0</td>\n",
       "      <td>26243</td>\n",
       "    </tr>\n",
       "  </tbody>\n",
       "</table>\n",
       "<p>2 rows × 282 columns</p>\n",
       "</div>"
      ],
      "text/plain": [
       "        TransactionAmt  ProductCD  card1  card2  card3  card4  card5  card6  \\\n",
       "142429           117.0          4  15845  111.0  150.0      2  195.0      2   \n",
       "377360            39.0          4   9500  321.0  150.0      3  226.0      2   \n",
       "\n",
       "        addr1  addr2  ...  id_32  id_33  id_36  id_37  id_38  DeviceType  \\\n",
       "142429  272.0   87.0  ...    NaN     -1     -1     -1     -1          -1   \n",
       "377360  272.0   87.0  ...    NaN     -1     -1     -1     -1          -1   \n",
       "\n",
       "        DeviceInfo  test_  isFraud  card1_count_enc  \n",
       "142429          -1  False      0.0              119  \n",
       "377360          -1  False      0.0            26243  \n",
       "\n",
       "[2 rows x 282 columns]"
      ]
     },
     "execution_count": 16,
     "metadata": {},
     "output_type": "execute_result"
    }
   ],
   "source": [
    "tr.sample(2)"
   ]
  },
  {
   "cell_type": "code",
   "execution_count": 17,
   "metadata": {
    "ExecuteTime": {
     "end_time": "2019-03-08T00:38:20.029940Z",
     "start_time": "2019-03-08T00:38:19.823321Z"
    }
   },
   "outputs": [],
   "source": [
    "target = \"isFraud\"\n",
    "X_cols = list(set(tr.columns) - {target})"
   ]
  },
  {
   "cell_type": "code",
   "execution_count": 18,
   "metadata": {},
   "outputs": [],
   "source": [
    "# X_cols = [c for c in X_cols if not c.startswith(\"V\")]"
   ]
  },
  {
   "cell_type": "code",
   "execution_count": 19,
   "metadata": {},
   "outputs": [],
   "source": [
    "# notna = tr[X_cols].notna().mean()\n",
    "# X_cols = notna.index[notna > 0.2]\n",
    "# len(X_cols)"
   ]
  },
  {
   "cell_type": "code",
   "execution_count": 20,
   "metadata": {
    "ExecuteTime": {
     "end_time": "2019-03-08T00:38:20.225630Z",
     "start_time": "2019-03-08T00:38:20.033432Z"
    }
   },
   "outputs": [
    {
     "data": {
      "text/plain": [
       "((100000, 281), (100000,))"
      ]
     },
     "execution_count": 20,
     "metadata": {},
     "output_type": "execute_result"
    }
   ],
   "source": [
    "X = tr[X_cols]\n",
    "y = tr[target]\n",
    "\n",
    "X.shape, y.shape"
   ]
  },
  {
   "cell_type": "code",
   "execution_count": 21,
   "metadata": {
    "ExecuteTime": {
     "end_time": "2019-03-08T00:38:20.417774Z",
     "start_time": "2019-03-08T00:38:20.228569Z"
    }
   },
   "outputs": [],
   "source": [
    "est = LGBMClassifier(num_leaves=2, n_estimators=10)"
   ]
  },
  {
   "cell_type": "code",
   "execution_count": 22,
   "metadata": {
    "ExecuteTime": {
     "end_time": "2019-03-08T00:38:20.773058Z",
     "start_time": "2019-03-08T00:38:20.420712Z"
    }
   },
   "outputs": [
    {
     "name": "stdout",
     "output_type": "stream",
     "text": [
      "CPU times: user 7.44 s, sys: 723 ms, total: 8.16 s\n",
      "Wall time: 5.26 s\n"
     ]
    },
    {
     "data": {
      "text/plain": [
       "LGBMClassifier(boosting_type='gbdt', class_weight=None, colsample_bytree=1.0,\n",
       "               importance_type='split', learning_rate=0.1, max_depth=-1,\n",
       "               min_child_samples=20, min_child_weight=0.001, min_split_gain=0.0,\n",
       "               n_estimators=10, n_jobs=-1, num_leaves=2, objective=None,\n",
       "               random_state=None, reg_alpha=0.0, reg_lambda=0.0, silent=True,\n",
       "               subsample=1.0, subsample_for_bin=200000, subsample_freq=0)"
      ]
     },
     "execution_count": 22,
     "metadata": {},
     "output_type": "execute_result"
    }
   ],
   "source": [
    "%%time\n",
    "\n",
    "est.fit(X, y)"
   ]
  },
  {
   "cell_type": "code",
   "execution_count": 23,
   "metadata": {},
   "outputs": [
    {
     "name": "stdout",
     "output_type": "stream",
     "text": [
      "CPU times: user 44.7 s, sys: 4.94 s, total: 49.7 s\n",
      "Wall time: 33.1 s\n"
     ]
    }
   ],
   "source": [
    "%%time\n",
    "\n",
    "pred = cross_val_predict(est, X, y, cv=5, method=\"predict_proba\")[:, 1]"
   ]
  },
  {
   "cell_type": "code",
   "execution_count": 24,
   "metadata": {},
   "outputs": [
    {
     "data": {
      "text/plain": [
       "array([0.02839913, 0.02839913, 0.02839913, ..., 0.02805554, 0.02805554,\n",
       "       0.02805554])"
      ]
     },
     "execution_count": 24,
     "metadata": {},
     "output_type": "execute_result"
    }
   ],
   "source": [
    "pred"
   ]
  },
  {
   "cell_type": "code",
   "execution_count": 25,
   "metadata": {},
   "outputs": [],
   "source": [
    "from sklearn.metrics import roc_auc_score"
   ]
  },
  {
   "cell_type": "code",
   "execution_count": 26,
   "metadata": {},
   "outputs": [
    {
     "data": {
      "text/plain": [
       "0.7916290608557348"
      ]
     },
     "execution_count": 26,
     "metadata": {},
     "output_type": "execute_result"
    }
   ],
   "source": [
    "roc_auc_score(y, pred)"
   ]
  },
  {
   "cell_type": "code",
   "execution_count": 27,
   "metadata": {},
   "outputs": [],
   "source": [
    "params = {'num_leaves': 256,\n",
    "          'min_child_samples': 79,\n",
    "          'objective': 'binary',\n",
    "          'max_depth': 13,\n",
    "          'learning_rate': 0.03,\n",
    "          \"boosting_type\": \"gbdt\",\n",
    "          \"subsample_freq\": 3,\n",
    "          \"subsample\": 0.9,\n",
    "          \"bagging_seed\": 11,\n",
    "          \"metric\": 'auc',\n",
    "          \"verbosity\": -1,\n",
    "          'reg_alpha': 0.3,\n",
    "          'reg_lambda': 0.3,\n",
    "          'colsample_bytree': 0.9,\n",
    "         }\n",
    "\n",
    "est2 = LGBMClassifier(**params)"
   ]
  },
  {
   "cell_type": "code",
   "execution_count": 28,
   "metadata": {
    "ExecuteTime": {
     "end_time": "2019-03-08T00:38:20.773058Z",
     "start_time": "2019-03-08T00:38:20.420712Z"
    }
   },
   "outputs": [
    {
     "name": "stdout",
     "output_type": "stream",
     "text": [
      "CPU times: user 1min 24s, sys: 1.19 s, total: 1min 25s\n",
      "Wall time: 25.1 s\n"
     ]
    },
    {
     "data": {
      "text/plain": [
       "LGBMClassifier(bagging_seed=11, boosting_type='gbdt', class_weight=None,\n",
       "               colsample_bytree=0.9, importance_type='split',\n",
       "               learning_rate=0.03, max_depth=13, metric='auc',\n",
       "               min_child_samples=79, min_child_weight=0.001, min_split_gain=0.0,\n",
       "               n_estimators=100, n_jobs=-1, num_leaves=256, objective='binary',\n",
       "               random_state=None, reg_alpha=0.3, reg_lambda=0.3, silent=True,\n",
       "               subsample=0.9, subsample_for_bin=200000, subsample_freq=3,\n",
       "               verbosity=-1)"
      ]
     },
     "execution_count": 28,
     "metadata": {},
     "output_type": "execute_result"
    }
   ],
   "source": [
    "%%time\n",
    "\n",
    "est2.fit(X, y)"
   ]
  },
  {
   "cell_type": "code",
   "execution_count": 29,
   "metadata": {},
   "outputs": [
    {
     "name": "stdout",
     "output_type": "stream",
     "text": [
      "CPU times: user 6min 4s, sys: 5.49 s, total: 6min 9s\n",
      "Wall time: 1min 51s\n"
     ]
    }
   ],
   "source": [
    "%%time\n",
    "\n",
    "pred2 = cross_val_predict(est2, X, y, cv=5, method=\"predict_proba\")[:, 1]"
   ]
  },
  {
   "cell_type": "code",
   "execution_count": 30,
   "metadata": {},
   "outputs": [
    {
     "data": {
      "text/plain": [
       "0.9132268995972915"
      ]
     },
     "execution_count": 30,
     "metadata": {},
     "output_type": "execute_result"
    }
   ],
   "source": [
    "roc_auc_score(y, pred2)"
   ]
  },
  {
   "cell_type": "code",
   "execution_count": 31,
   "metadata": {},
   "outputs": [
    {
     "data": {
      "text/html": [
       "<div>\n",
       "<style scoped>\n",
       "    .dataframe tbody tr th:only-of-type {\n",
       "        vertical-align: middle;\n",
       "    }\n",
       "\n",
       "    .dataframe tbody tr th {\n",
       "        vertical-align: top;\n",
       "    }\n",
       "\n",
       "    .dataframe thead th {\n",
       "        text-align: right;\n",
       "    }\n",
       "</style>\n",
       "<table border=\"1\" class=\"dataframe\">\n",
       "  <thead>\n",
       "    <tr style=\"text-align: right;\">\n",
       "      <th></th>\n",
       "      <th>col</th>\n",
       "      <th>importance</th>\n",
       "    </tr>\n",
       "  </thead>\n",
       "  <tbody>\n",
       "    <tr>\n",
       "      <th>274</th>\n",
       "      <td>{V268, V285, V217, V182, R_emaildomain, V151, ...</td>\n",
       "      <td>1305</td>\n",
       "    </tr>\n",
       "    <tr>\n",
       "      <th>163</th>\n",
       "      <td>{V268, V285, V217, V182, R_emaildomain, V151, ...</td>\n",
       "      <td>1161</td>\n",
       "    </tr>\n",
       "    <tr>\n",
       "      <th>146</th>\n",
       "      <td>{V268, V285, V217, V182, R_emaildomain, V151, ...</td>\n",
       "      <td>1125</td>\n",
       "    </tr>\n",
       "    <tr>\n",
       "      <th>15</th>\n",
       "      <td>{V268, V285, V217, V182, R_emaildomain, V151, ...</td>\n",
       "      <td>1123</td>\n",
       "    </tr>\n",
       "    <tr>\n",
       "      <th>68</th>\n",
       "      <td>{V268, V285, V217, V182, R_emaildomain, V151, ...</td>\n",
       "      <td>1037</td>\n",
       "    </tr>\n",
       "    <tr>\n",
       "      <th>43</th>\n",
       "      <td>{V268, V285, V217, V182, R_emaildomain, V151, ...</td>\n",
       "      <td>701</td>\n",
       "    </tr>\n",
       "    <tr>\n",
       "      <th>187</th>\n",
       "      <td>{V268, V285, V217, V182, R_emaildomain, V151, ...</td>\n",
       "      <td>642</td>\n",
       "    </tr>\n",
       "    <tr>\n",
       "      <th>139</th>\n",
       "      <td>{V268, V285, V217, V182, R_emaildomain, V151, ...</td>\n",
       "      <td>626</td>\n",
       "    </tr>\n",
       "    <tr>\n",
       "      <th>55</th>\n",
       "      <td>{V268, V285, V217, V182, R_emaildomain, V151, ...</td>\n",
       "      <td>573</td>\n",
       "    </tr>\n",
       "    <tr>\n",
       "      <th>108</th>\n",
       "      <td>{V268, V285, V217, V182, R_emaildomain, V151, ...</td>\n",
       "      <td>518</td>\n",
       "    </tr>\n",
       "    <tr>\n",
       "      <th>74</th>\n",
       "      <td>{V268, V285, V217, V182, R_emaildomain, V151, ...</td>\n",
       "      <td>504</td>\n",
       "    </tr>\n",
       "    <tr>\n",
       "      <th>224</th>\n",
       "      <td>{V268, V285, V217, V182, R_emaildomain, V151, ...</td>\n",
       "      <td>458</td>\n",
       "    </tr>\n",
       "    <tr>\n",
       "      <th>200</th>\n",
       "      <td>{V268, V285, V217, V182, R_emaildomain, V151, ...</td>\n",
       "      <td>440</td>\n",
       "    </tr>\n",
       "    <tr>\n",
       "      <th>153</th>\n",
       "      <td>{V268, V285, V217, V182, R_emaildomain, V151, ...</td>\n",
       "      <td>375</td>\n",
       "    </tr>\n",
       "    <tr>\n",
       "      <th>93</th>\n",
       "      <td>{V268, V285, V217, V182, R_emaildomain, V151, ...</td>\n",
       "      <td>356</td>\n",
       "    </tr>\n",
       "    <tr>\n",
       "      <th>213</th>\n",
       "      <td>{V268, V285, V217, V182, R_emaildomain, V151, ...</td>\n",
       "      <td>351</td>\n",
       "    </tr>\n",
       "    <tr>\n",
       "      <th>214</th>\n",
       "      <td>{V268, V285, V217, V182, R_emaildomain, V151, ...</td>\n",
       "      <td>326</td>\n",
       "    </tr>\n",
       "    <tr>\n",
       "      <th>133</th>\n",
       "      <td>{V268, V285, V217, V182, R_emaildomain, V151, ...</td>\n",
       "      <td>310</td>\n",
       "    </tr>\n",
       "    <tr>\n",
       "      <th>88</th>\n",
       "      <td>{V268, V285, V217, V182, R_emaildomain, V151, ...</td>\n",
       "      <td>299</td>\n",
       "    </tr>\n",
       "    <tr>\n",
       "      <th>61</th>\n",
       "      <td>{V268, V285, V217, V182, R_emaildomain, V151, ...</td>\n",
       "      <td>273</td>\n",
       "    </tr>\n",
       "  </tbody>\n",
       "</table>\n",
       "</div>"
      ],
      "text/plain": [
       "                                                   col  importance\n",
       "274  {V268, V285, V217, V182, R_emaildomain, V151, ...        1305\n",
       "163  {V268, V285, V217, V182, R_emaildomain, V151, ...        1161\n",
       "146  {V268, V285, V217, V182, R_emaildomain, V151, ...        1125\n",
       "15   {V268, V285, V217, V182, R_emaildomain, V151, ...        1123\n",
       "68   {V268, V285, V217, V182, R_emaildomain, V151, ...        1037\n",
       "43   {V268, V285, V217, V182, R_emaildomain, V151, ...         701\n",
       "187  {V268, V285, V217, V182, R_emaildomain, V151, ...         642\n",
       "139  {V268, V285, V217, V182, R_emaildomain, V151, ...         626\n",
       "55   {V268, V285, V217, V182, R_emaildomain, V151, ...         573\n",
       "108  {V268, V285, V217, V182, R_emaildomain, V151, ...         518\n",
       "74   {V268, V285, V217, V182, R_emaildomain, V151, ...         504\n",
       "224  {V268, V285, V217, V182, R_emaildomain, V151, ...         458\n",
       "200  {V268, V285, V217, V182, R_emaildomain, V151, ...         440\n",
       "153  {V268, V285, V217, V182, R_emaildomain, V151, ...         375\n",
       "93   {V268, V285, V217, V182, R_emaildomain, V151, ...         356\n",
       "213  {V268, V285, V217, V182, R_emaildomain, V151, ...         351\n",
       "214  {V268, V285, V217, V182, R_emaildomain, V151, ...         326\n",
       "133  {V268, V285, V217, V182, R_emaildomain, V151, ...         310\n",
       "88   {V268, V285, V217, V182, R_emaildomain, V151, ...         299\n",
       "61   {V268, V285, V217, V182, R_emaildomain, V151, ...         273"
      ]
     },
     "execution_count": 31,
     "metadata": {},
     "output_type": "execute_result"
    }
   ],
   "source": [
    "pd.DataFrame({\n",
    "    \"col\": X_cols,\n",
    "    \"importance\": est2.feature_importances_,\n",
    "}).sort_values(\"importance\", ascending=False).head(20)"
   ]
  },
  {
   "cell_type": "code",
   "execution_count": 32,
   "metadata": {
    "ExecuteTime": {
     "end_time": "2019-03-08T00:38:20.983668Z",
     "start_time": "2019-03-08T00:38:20.777050Z"
    }
   },
   "outputs": [
    {
     "data": {
      "text/plain": [
       "{'n_estimators': Integer(low=50, high=2000),\n",
       " 'max_depth': Integer(low=1, high=8),\n",
       " 'num_leaves': Integer(low=4, high=32),\n",
       " 'learning_rate': Real(low=0.0001, high=10, prior='log-uniform', transform='identity'),\n",
       " 'cat_smooth': Real(low=0.01, high=100, prior='log-uniform', transform='identity')}"
      ]
     },
     "execution_count": 32,
     "metadata": {},
     "output_type": "execute_result"
    }
   ],
   "source": [
    "PARAMS_SKOPT[\"lgb_small_trees\"]"
   ]
  },
  {
   "cell_type": "code",
   "execution_count": 33,
   "metadata": {
    "ExecuteTime": {
     "end_time": "2019-03-08T00:39:19.324138Z",
     "start_time": "2019-03-08T00:39:19.103491Z"
    }
   },
   "outputs": [],
   "source": [
    "est3 = BayesSearchCV2(\n",
    "    LGBMClassifier(),\n",
    "    PARAMS_SKOPT[\"lgb_big_trees\"],\n",
    "    scoring=\"roc_auc\",\n",
    "    cv=5,\n",
    "    n_iter=25,\n",
    "    n_jobs=3,\n",
    "    verbose=1,\n",
    ")"
   ]
  },
  {
   "cell_type": "code",
   "execution_count": 34,
   "metadata": {
    "ExecuteTime": {
     "end_time": "2019-03-08T00:40:09.812698Z",
     "start_time": "2019-03-08T00:39:19.723271Z"
    }
   },
   "outputs": [
    {
     "name": "stdout",
     "output_type": "stream",
     "text": [
      "Fitting 5 folds for each of 1 candidates, totalling 5 fits\n"
     ]
    },
    {
     "name": "stderr",
     "output_type": "stream",
     "text": [
      "[Parallel(n_jobs=3)]: Using backend LokyBackend with 3 concurrent workers.\n"
     ]
    },
    {
     "name": "stdout",
     "output_type": "stream",
     "text": [
      "Fitting 5 folds for each of 1 candidates, totalling 5 fits\n"
     ]
    },
    {
     "name": "stderr",
     "output_type": "stream",
     "text": [
      "[Parallel(n_jobs=3)]: Done   5 out of   5 | elapsed: 14.8min finished\n",
      "[Parallel(n_jobs=3)]: Using backend LokyBackend with 3 concurrent workers.\n",
      "[Parallel(n_jobs=3)]: Done   5 out of   5 | elapsed: 10.2min finished\n",
      "[Parallel(n_jobs=3)]: Using backend LokyBackend with 3 concurrent workers.\n"
     ]
    },
    {
     "name": "stdout",
     "output_type": "stream",
     "text": [
      "Fitting 5 folds for each of 1 candidates, totalling 5 fits\n"
     ]
    },
    {
     "name": "stderr",
     "output_type": "stream",
     "text": [
      "[Parallel(n_jobs=3)]: Done   5 out of   5 | elapsed:  6.0min finished\n",
      "[Parallel(n_jobs=3)]: Using backend LokyBackend with 3 concurrent workers.\n"
     ]
    },
    {
     "name": "stdout",
     "output_type": "stream",
     "text": [
      "Fitting 5 folds for each of 1 candidates, totalling 5 fits\n",
      "Fitting 5 folds for each of 1 candidates, totalling 5 fits\n"
     ]
    },
    {
     "name": "stderr",
     "output_type": "stream",
     "text": [
      "[Parallel(n_jobs=3)]: Done   5 out of   5 | elapsed: 13.2min finished\n",
      "[Parallel(n_jobs=3)]: Using backend LokyBackend with 3 concurrent workers.\n"
     ]
    },
    {
     "name": "stdout",
     "output_type": "stream",
     "text": [
      "Fitting 5 folds for each of 1 candidates, totalling 5 fits\n"
     ]
    },
    {
     "name": "stderr",
     "output_type": "stream",
     "text": [
      "[Parallel(n_jobs=3)]: Done   5 out of   5 | elapsed: 13.5min finished\n",
      "[Parallel(n_jobs=3)]: Using backend LokyBackend with 3 concurrent workers.\n",
      "[Parallel(n_jobs=3)]: Done   5 out of   5 | elapsed: 10.4min finished\n",
      "[Parallel(n_jobs=3)]: Using backend LokyBackend with 3 concurrent workers.\n"
     ]
    },
    {
     "name": "stdout",
     "output_type": "stream",
     "text": [
      "Fitting 5 folds for each of 1 candidates, totalling 5 fits\n"
     ]
    },
    {
     "name": "stderr",
     "output_type": "stream",
     "text": [
      "/home/lpkirwin/miniconda/envs/kaggle/lib/python3.7/site-packages/joblib/externals/loky/process_executor.py:706: UserWarning: A worker stopped while some jobs were given to the executor. This can be caused by a too short worker timeout or by a memory leak.\n",
      "  \"timeout or by a memory leak.\", UserWarning\n",
      "[Parallel(n_jobs=3)]: Done   5 out of   5 | elapsed:  5.3min finished\n",
      "[Parallel(n_jobs=3)]: Using backend LokyBackend with 3 concurrent workers.\n"
     ]
    },
    {
     "name": "stdout",
     "output_type": "stream",
     "text": [
      "Fitting 5 folds for each of 1 candidates, totalling 5 fits\n"
     ]
    },
    {
     "name": "stderr",
     "output_type": "stream",
     "text": [
      "[Parallel(n_jobs=3)]: Done   5 out of   5 | elapsed:  8.1min finished\n",
      "[Parallel(n_jobs=3)]: Using backend LokyBackend with 3 concurrent workers.\n"
     ]
    },
    {
     "name": "stdout",
     "output_type": "stream",
     "text": [
      "Fitting 5 folds for each of 1 candidates, totalling 5 fits\n"
     ]
    },
    {
     "name": "stderr",
     "output_type": "stream",
     "text": [
      "[Parallel(n_jobs=3)]: Done   5 out of   5 | elapsed:  2.9min finished\n"
     ]
    },
    {
     "name": "stdout",
     "output_type": "stream",
     "text": [
      "Fitting 5 folds for each of 1 candidates, totalling 5 fits\n"
     ]
    },
    {
     "name": "stderr",
     "output_type": "stream",
     "text": [
      "[Parallel(n_jobs=3)]: Using backend LokyBackend with 3 concurrent workers.\n",
      "[Parallel(n_jobs=3)]: Done   5 out of   5 | elapsed: 12.5min finished\n"
     ]
    },
    {
     "name": "stdout",
     "output_type": "stream",
     "text": [
      "Fitting 5 folds for each of 1 candidates, totalling 5 fits\n"
     ]
    },
    {
     "name": "stderr",
     "output_type": "stream",
     "text": [
      "[Parallel(n_jobs=3)]: Using backend LokyBackend with 3 concurrent workers.\n",
      "[Parallel(n_jobs=3)]: Done   5 out of   5 | elapsed:  1.9min finished\n"
     ]
    },
    {
     "name": "stdout",
     "output_type": "stream",
     "text": [
      "Fitting 5 folds for each of 1 candidates, totalling 5 fits\n"
     ]
    },
    {
     "name": "stderr",
     "output_type": "stream",
     "text": [
      "[Parallel(n_jobs=3)]: Using backend LokyBackend with 3 concurrent workers.\n",
      "[Parallel(n_jobs=3)]: Done   5 out of   5 | elapsed: 15.2min finished\n"
     ]
    },
    {
     "name": "stdout",
     "output_type": "stream",
     "text": [
      "Fitting 5 folds for each of 1 candidates, totalling 5 fits\n"
     ]
    },
    {
     "name": "stderr",
     "output_type": "stream",
     "text": [
      "[Parallel(n_jobs=3)]: Using backend LokyBackend with 3 concurrent workers.\n",
      "[Parallel(n_jobs=3)]: Done   5 out of   5 | elapsed:  5.2min finished\n"
     ]
    },
    {
     "name": "stdout",
     "output_type": "stream",
     "text": [
      "Fitting 5 folds for each of 1 candidates, totalling 5 fits\n"
     ]
    },
    {
     "name": "stderr",
     "output_type": "stream",
     "text": [
      "[Parallel(n_jobs=3)]: Using backend LokyBackend with 3 concurrent workers.\n",
      "/home/lpkirwin/miniconda/envs/kaggle/lib/python3.7/site-packages/joblib/externals/loky/process_executor.py:706: UserWarning: A worker stopped while some jobs were given to the executor. This can be caused by a too short worker timeout or by a memory leak.\n",
      "  \"timeout or by a memory leak.\", UserWarning\n",
      "[Parallel(n_jobs=3)]: Done   5 out of   5 | elapsed:   30.9s finished\n"
     ]
    },
    {
     "name": "stdout",
     "output_type": "stream",
     "text": [
      "Fitting 5 folds for each of 1 candidates, totalling 5 fits\n"
     ]
    },
    {
     "name": "stderr",
     "output_type": "stream",
     "text": [
      "[Parallel(n_jobs=3)]: Using backend LokyBackend with 3 concurrent workers.\n",
      "[Parallel(n_jobs=3)]: Done   5 out of   5 | elapsed:  2.2min finished\n"
     ]
    },
    {
     "name": "stdout",
     "output_type": "stream",
     "text": [
      "Fitting 5 folds for each of 1 candidates, totalling 5 fits\n"
     ]
    },
    {
     "name": "stderr",
     "output_type": "stream",
     "text": [
      "[Parallel(n_jobs=3)]: Using backend LokyBackend with 3 concurrent workers.\n",
      "/home/lpkirwin/miniconda/envs/kaggle/lib/python3.7/site-packages/joblib/externals/loky/process_executor.py:706: UserWarning: A worker stopped while some jobs were given to the executor. This can be caused by a too short worker timeout or by a memory leak.\n",
      "  \"timeout or by a memory leak.\", UserWarning\n",
      "[Parallel(n_jobs=3)]: Done   5 out of   5 | elapsed: 16.1min finished\n"
     ]
    },
    {
     "name": "stdout",
     "output_type": "stream",
     "text": [
      "Fitting 5 folds for each of 1 candidates, totalling 5 fits\n"
     ]
    },
    {
     "name": "stderr",
     "output_type": "stream",
     "text": [
      "[Parallel(n_jobs=3)]: Using backend LokyBackend with 3 concurrent workers.\n",
      "[Parallel(n_jobs=3)]: Done   5 out of   5 | elapsed:  9.0min finished\n"
     ]
    },
    {
     "name": "stdout",
     "output_type": "stream",
     "text": [
      "Fitting 5 folds for each of 1 candidates, totalling 5 fits\n"
     ]
    },
    {
     "name": "stderr",
     "output_type": "stream",
     "text": [
      "[Parallel(n_jobs=3)]: Using backend LokyBackend with 3 concurrent workers.\n",
      "/home/lpkirwin/miniconda/envs/kaggle/lib/python3.7/site-packages/joblib/externals/loky/process_executor.py:706: UserWarning: A worker stopped while some jobs were given to the executor. This can be caused by a too short worker timeout or by a memory leak.\n",
      "  \"timeout or by a memory leak.\", UserWarning\n",
      "[Parallel(n_jobs=3)]: Done   5 out of   5 | elapsed:  7.9min finished\n"
     ]
    },
    {
     "name": "stdout",
     "output_type": "stream",
     "text": [
      "Fitting 5 folds for each of 1 candidates, totalling 5 fits\n"
     ]
    },
    {
     "name": "stderr",
     "output_type": "stream",
     "text": [
      "[Parallel(n_jobs=3)]: Using backend LokyBackend with 3 concurrent workers.\n",
      "[Parallel(n_jobs=3)]: Done   5 out of   5 | elapsed:   20.8s finished\n"
     ]
    },
    {
     "name": "stdout",
     "output_type": "stream",
     "text": [
      "Fitting 5 folds for each of 1 candidates, totalling 5 fits\n"
     ]
    },
    {
     "name": "stderr",
     "output_type": "stream",
     "text": [
      "[Parallel(n_jobs=3)]: Using backend LokyBackend with 3 concurrent workers.\n",
      "/home/lpkirwin/miniconda/envs/kaggle/lib/python3.7/site-packages/joblib/externals/loky/process_executor.py:706: UserWarning: A worker stopped while some jobs were given to the executor. This can be caused by a too short worker timeout or by a memory leak.\n",
      "  \"timeout or by a memory leak.\", UserWarning\n",
      "[Parallel(n_jobs=3)]: Done   5 out of   5 | elapsed: 21.2min finished\n"
     ]
    },
    {
     "name": "stdout",
     "output_type": "stream",
     "text": [
      "Fitting 5 folds for each of 1 candidates, totalling 5 fits\n"
     ]
    },
    {
     "name": "stderr",
     "output_type": "stream",
     "text": [
      "[Parallel(n_jobs=3)]: Using backend LokyBackend with 3 concurrent workers.\n",
      "/home/lpkirwin/miniconda/envs/kaggle/lib/python3.7/site-packages/joblib/externals/loky/process_executor.py:706: UserWarning: A worker stopped while some jobs were given to the executor. This can be caused by a too short worker timeout or by a memory leak.\n",
      "  \"timeout or by a memory leak.\", UserWarning\n",
      "[Parallel(n_jobs=3)]: Done   5 out of   5 | elapsed:   30.8s finished\n"
     ]
    },
    {
     "name": "stdout",
     "output_type": "stream",
     "text": [
      "Fitting 5 folds for each of 1 candidates, totalling 5 fits\n"
     ]
    },
    {
     "name": "stderr",
     "output_type": "stream",
     "text": [
      "[Parallel(n_jobs=3)]: Using backend LokyBackend with 3 concurrent workers.\n",
      "/home/lpkirwin/miniconda/envs/kaggle/lib/python3.7/site-packages/joblib/externals/loky/process_executor.py:706: UserWarning: A worker stopped while some jobs were given to the executor. This can be caused by a too short worker timeout or by a memory leak.\n",
      "  \"timeout or by a memory leak.\", UserWarning\n",
      "[Parallel(n_jobs=3)]: Done   5 out of   5 | elapsed: 18.4min finished\n"
     ]
    },
    {
     "name": "stdout",
     "output_type": "stream",
     "text": [
      "Fitting 5 folds for each of 1 candidates, totalling 5 fits\n"
     ]
    },
    {
     "name": "stderr",
     "output_type": "stream",
     "text": [
      "[Parallel(n_jobs=3)]: Using backend LokyBackend with 3 concurrent workers.\n",
      "[Parallel(n_jobs=3)]: Done   5 out of   5 | elapsed: 12.6min finished\n"
     ]
    },
    {
     "name": "stdout",
     "output_type": "stream",
     "text": [
      "Fitting 5 folds for each of 1 candidates, totalling 5 fits\n"
     ]
    },
    {
     "name": "stderr",
     "output_type": "stream",
     "text": [
      "[Parallel(n_jobs=3)]: Using backend LokyBackend with 3 concurrent workers.\n",
      "[Parallel(n_jobs=3)]: Done   5 out of   5 | elapsed:  5.6min finished\n"
     ]
    },
    {
     "name": "stdout",
     "output_type": "stream",
     "text": [
      "Fitting 5 folds for each of 1 candidates, totalling 5 fits\n"
     ]
    },
    {
     "name": "stderr",
     "output_type": "stream",
     "text": [
      "[Parallel(n_jobs=3)]: Using backend LokyBackend with 3 concurrent workers.\n",
      "[Parallel(n_jobs=3)]: Done   5 out of   5 | elapsed: 18.2min finished\n"
     ]
    },
    {
     "data": {
      "text/plain": [
       "BayesSearchCV2(cv=5, error_score='raise',\n",
       "               estimator=LGBMClassifier(boosting_type='gbdt', class_weight=None,\n",
       "                                        colsample_bytree=1.0,\n",
       "                                        importance_type='split',\n",
       "                                        learning_rate=0.1, max_depth=-1,\n",
       "                                        min_child_samples=20,\n",
       "                                        min_child_weight=0.001,\n",
       "                                        min_split_gain=0.0, n_estimators=100,\n",
       "                                        n_jobs=-1, num_leaves=31,\n",
       "                                        objective=None, random_state=None,\n",
       "                                        reg_alpha=0.0, reg_lambda=0.0,\n",
       "                                        sile...\n",
       "               random_state=None, refit=True, return_train_score=False,\n",
       "               scoring='roc_auc',\n",
       "               search_spaces={'cat_smooth': Real(low=0.01, high=100, prior='log-uniform', transform='identity'),\n",
       "                              'learning_rate': Real(low=0.0001, high=10, prior='log-uniform', transform='identity'),\n",
       "                              'max_depth': Integer(low=100, high=200),\n",
       "                              'n_estimators': Integer(low=5, high=500),\n",
       "                              'num_leaves': Integer(low=50, high=500)},\n",
       "               verbose=1)"
      ]
     },
     "execution_count": 34,
     "metadata": {},
     "output_type": "execute_result"
    }
   ],
   "source": [
    "est3.fit(X, y)"
   ]
  },
  {
   "cell_type": "code",
   "execution_count": 35,
   "metadata": {
    "ExecuteTime": {
     "end_time": "2019-03-08T00:43:50.467903Z",
     "start_time": "2019-03-08T00:43:49.436824Z"
    }
   },
   "outputs": [],
   "source": [
    "pred3 = cross_val_predict(est3.best_estimator_, X, y, cv=5, method=\"predict_proba\")[:, 1]"
   ]
  },
  {
   "cell_type": "code",
   "execution_count": 36,
   "metadata": {},
   "outputs": [
    {
     "data": {
      "text/plain": [
       "0.928411649525746"
      ]
     },
     "execution_count": 36,
     "metadata": {},
     "output_type": "execute_result"
    }
   ],
   "source": [
    "roc_auc_score(y, pred3)"
   ]
  },
  {
   "cell_type": "code",
   "execution_count": 37,
   "metadata": {
    "ExecuteTime": {
     "end_time": "2019-03-08T00:40:17.140060Z",
     "start_time": "2019-03-08T00:40:16.902503Z"
    }
   },
   "outputs": [
    {
     "data": {
      "text/plain": [
       "\"LGBMClassifier(boosting_type='gbdt', cat_smooth=100.0, class_weight=None,\\n               colsample_bytree=1.0, importance_type='split',\\n               learning_rate=0.03958268464619738, max_depth=200,\\n               min_child_samples=20, min_child_weight=0.001, min_split_gain=0.0,\\n               n_estimators=324, n_jobs=-1, num_leaves=243, objective=None,\\n               random_state=None, reg_alpha=0.0, reg_lambda=0.0, silent=True,\\n               subsample=1.0, subsample_for_bin=200000, subsample_freq=0)\""
      ]
     },
     "execution_count": 37,
     "metadata": {},
     "output_type": "execute_result"
    }
   ],
   "source": [
    "repr(est3.best_estimator_)"
   ]
  },
  {
   "cell_type": "code",
   "execution_count": 38,
   "metadata": {
    "ExecuteTime": {
     "end_time": "2019-03-08T00:40:18.902511Z",
     "start_time": "2019-03-08T00:40:18.686412Z"
    }
   },
   "outputs": [
    {
     "data": {
      "text/plain": [
       "0.9284961922777616"
      ]
     },
     "execution_count": 38,
     "metadata": {},
     "output_type": "execute_result"
    }
   ],
   "source": [
    "est3.best_score_"
   ]
  },
  {
   "cell_type": "code",
   "execution_count": 39,
   "metadata": {
    "ExecuteTime": {
     "end_time": "2019-03-08T00:43:20.283843Z",
     "start_time": "2019-03-08T00:43:20.025303Z"
    }
   },
   "outputs": [
    {
     "data": {
      "text/html": [
       "<div>\n",
       "<style scoped>\n",
       "    .dataframe tbody tr th:only-of-type {\n",
       "        vertical-align: middle;\n",
       "    }\n",
       "\n",
       "    .dataframe tbody tr th {\n",
       "        vertical-align: top;\n",
       "    }\n",
       "\n",
       "    .dataframe thead th {\n",
       "        text-align: right;\n",
       "    }\n",
       "</style>\n",
       "<table border=\"1\" class=\"dataframe\">\n",
       "  <thead>\n",
       "    <tr style=\"text-align: right;\">\n",
       "      <th></th>\n",
       "      <th>split0_test_score</th>\n",
       "      <th>split1_test_score</th>\n",
       "      <th>split2_test_score</th>\n",
       "      <th>split3_test_score</th>\n",
       "      <th>split4_test_score</th>\n",
       "      <th>mean_test_score</th>\n",
       "      <th>std_test_score</th>\n",
       "      <th>rank_test_score</th>\n",
       "      <th>mean_fit_time</th>\n",
       "      <th>std_fit_time</th>\n",
       "      <th>mean_score_time</th>\n",
       "      <th>std_score_time</th>\n",
       "      <th>param_cat_smooth</th>\n",
       "      <th>param_learning_rate</th>\n",
       "      <th>param_max_depth</th>\n",
       "      <th>param_n_estimators</th>\n",
       "      <th>param_num_leaves</th>\n",
       "      <th>params</th>\n",
       "    </tr>\n",
       "  </thead>\n",
       "  <tbody>\n",
       "    <tr>\n",
       "      <th>0</th>\n",
       "      <td>0.920713</td>\n",
       "      <td>0.930098</td>\n",
       "      <td>0.934660</td>\n",
       "      <td>0.929502</td>\n",
       "      <td>0.920109</td>\n",
       "      <td>0.927016</td>\n",
       "      <td>0.005684</td>\n",
       "      <td>1</td>\n",
       "      <td>448.362076</td>\n",
       "      <td>60.808497</td>\n",
       "      <td>7.614456</td>\n",
       "      <td>1.809602</td>\n",
       "      <td>1.121284</td>\n",
       "      <td>0.027951</td>\n",
       "      <td>188</td>\n",
       "      <td>347</td>\n",
       "      <td>440</td>\n",
       "      <td>{'cat_smooth': 1.1212838179340168, 'learning_r...</td>\n",
       "    </tr>\n",
       "    <tr>\n",
       "      <th>1</th>\n",
       "      <td>0.876588</td>\n",
       "      <td>0.880306</td>\n",
       "      <td>0.885854</td>\n",
       "      <td>0.879638</td>\n",
       "      <td>0.870276</td>\n",
       "      <td>0.878532</td>\n",
       "      <td>0.005097</td>\n",
       "      <td>1</td>\n",
       "      <td>313.344900</td>\n",
       "      <td>44.434468</td>\n",
       "      <td>3.484273</td>\n",
       "      <td>0.312763</td>\n",
       "      <td>5.758759</td>\n",
       "      <td>0.001042</td>\n",
       "      <td>161</td>\n",
       "      <td>357</td>\n",
       "      <td>295</td>\n",
       "      <td>{'cat_smooth': 5.758759483695491, 'learning_ra...</td>\n",
       "    </tr>\n",
       "    <tr>\n",
       "      <th>2</th>\n",
       "      <td>0.921865</td>\n",
       "      <td>0.925400</td>\n",
       "      <td>0.930658</td>\n",
       "      <td>0.928323</td>\n",
       "      <td>0.914633</td>\n",
       "      <td>0.924176</td>\n",
       "      <td>0.005606</td>\n",
       "      <td>1</td>\n",
       "      <td>180.823442</td>\n",
       "      <td>25.874987</td>\n",
       "      <td>3.894945</td>\n",
       "      <td>0.696684</td>\n",
       "      <td>1.117950</td>\n",
       "      <td>0.089945</td>\n",
       "      <td>116</td>\n",
       "      <td>382</td>\n",
       "      <td>98</td>\n",
       "      <td>{'cat_smooth': 1.1179499887779936, 'learning_r...</td>\n",
       "    </tr>\n",
       "    <tr>\n",
       "      <th>3</th>\n",
       "      <td>0.909752</td>\n",
       "      <td>0.920108</td>\n",
       "      <td>0.929439</td>\n",
       "      <td>0.920795</td>\n",
       "      <td>0.908037</td>\n",
       "      <td>0.917626</td>\n",
       "      <td>0.007870</td>\n",
       "      <td>1</td>\n",
       "      <td>404.535556</td>\n",
       "      <td>58.035957</td>\n",
       "      <td>5.249114</td>\n",
       "      <td>0.374753</td>\n",
       "      <td>0.044411</td>\n",
       "      <td>0.006999</td>\n",
       "      <td>113</td>\n",
       "      <td>423</td>\n",
       "      <td>302</td>\n",
       "      <td>{'cat_smooth': 0.04441100771869763, 'learning_...</td>\n",
       "    </tr>\n",
       "    <tr>\n",
       "      <th>4</th>\n",
       "      <td>0.872817</td>\n",
       "      <td>0.881687</td>\n",
       "      <td>0.880331</td>\n",
       "      <td>0.875224</td>\n",
       "      <td>0.862577</td>\n",
       "      <td>0.874527</td>\n",
       "      <td>0.006800</td>\n",
       "      <td>1</td>\n",
       "      <td>414.466956</td>\n",
       "      <td>58.447222</td>\n",
       "      <td>5.004453</td>\n",
       "      <td>0.677556</td>\n",
       "      <td>1.960253</td>\n",
       "      <td>0.000291</td>\n",
       "      <td>102</td>\n",
       "      <td>450</td>\n",
       "      <td>342</td>\n",
       "      <td>{'cat_smooth': 1.9602528092191487, 'learning_r...</td>\n",
       "    </tr>\n",
       "    <tr>\n",
       "      <th>5</th>\n",
       "      <td>0.899114</td>\n",
       "      <td>0.909168</td>\n",
       "      <td>0.915673</td>\n",
       "      <td>0.908226</td>\n",
       "      <td>0.899550</td>\n",
       "      <td>0.906346</td>\n",
       "      <td>0.006277</td>\n",
       "      <td>1</td>\n",
       "      <td>317.668125</td>\n",
       "      <td>47.572313</td>\n",
       "      <td>3.634090</td>\n",
       "      <td>0.410271</td>\n",
       "      <td>15.768610</td>\n",
       "      <td>0.005766</td>\n",
       "      <td>138</td>\n",
       "      <td>293</td>\n",
       "      <td>400</td>\n",
       "      <td>{'cat_smooth': 15.768610392996079, 'learning_r...</td>\n",
       "    </tr>\n",
       "    <tr>\n",
       "      <th>6</th>\n",
       "      <td>0.888599</td>\n",
       "      <td>0.896400</td>\n",
       "      <td>0.903914</td>\n",
       "      <td>0.895487</td>\n",
       "      <td>0.886524</td>\n",
       "      <td>0.894185</td>\n",
       "      <td>0.006183</td>\n",
       "      <td>1</td>\n",
       "      <td>161.998003</td>\n",
       "      <td>24.148234</td>\n",
       "      <td>2.147656</td>\n",
       "      <td>0.391815</td>\n",
       "      <td>20.840250</td>\n",
       "      <td>0.005900</td>\n",
       "      <td>178</td>\n",
       "      <td>165</td>\n",
       "      <td>336</td>\n",
       "      <td>{'cat_smooth': 20.840249687189242, 'learning_r...</td>\n",
       "    </tr>\n",
       "    <tr>\n",
       "      <th>7</th>\n",
       "      <td>0.862828</td>\n",
       "      <td>0.874220</td>\n",
       "      <td>0.879370</td>\n",
       "      <td>0.861746</td>\n",
       "      <td>0.861376</td>\n",
       "      <td>0.867908</td>\n",
       "      <td>0.007452</td>\n",
       "      <td>1</td>\n",
       "      <td>248.186615</td>\n",
       "      <td>39.451280</td>\n",
       "      <td>2.924804</td>\n",
       "      <td>0.611296</td>\n",
       "      <td>12.002001</td>\n",
       "      <td>0.000298</td>\n",
       "      <td>167</td>\n",
       "      <td>234</td>\n",
       "      <td>438</td>\n",
       "      <td>{'cat_smooth': 12.002001139678356, 'learning_r...</td>\n",
       "    </tr>\n",
       "    <tr>\n",
       "      <th>8</th>\n",
       "      <td>0.917652</td>\n",
       "      <td>0.927137</td>\n",
       "      <td>0.927717</td>\n",
       "      <td>0.928203</td>\n",
       "      <td>0.913839</td>\n",
       "      <td>0.922909</td>\n",
       "      <td>0.005982</td>\n",
       "      <td>1</td>\n",
       "      <td>87.568913</td>\n",
       "      <td>12.843199</td>\n",
       "      <td>2.211731</td>\n",
       "      <td>0.330321</td>\n",
       "      <td>20.132734</td>\n",
       "      <td>0.092967</td>\n",
       "      <td>111</td>\n",
       "      <td>101</td>\n",
       "      <td>216</td>\n",
       "      <td>{'cat_smooth': 20.13273448390463, 'learning_ra...</td>\n",
       "    </tr>\n",
       "    <tr>\n",
       "      <th>9</th>\n",
       "      <td>0.870472</td>\n",
       "      <td>0.877808</td>\n",
       "      <td>0.882025</td>\n",
       "      <td>0.874893</td>\n",
       "      <td>0.862540</td>\n",
       "      <td>0.873548</td>\n",
       "      <td>0.006670</td>\n",
       "      <td>1</td>\n",
       "      <td>381.957181</td>\n",
       "      <td>55.488352</td>\n",
       "      <td>4.802622</td>\n",
       "      <td>1.172295</td>\n",
       "      <td>1.062311</td>\n",
       "      <td>0.000438</td>\n",
       "      <td>197</td>\n",
       "      <td>488</td>\n",
       "      <td>282</td>\n",
       "      <td>{'cat_smooth': 1.0623114043775155, 'learning_r...</td>\n",
       "    </tr>\n",
       "    <tr>\n",
       "      <th>10</th>\n",
       "      <td>0.634224</td>\n",
       "      <td>0.508040</td>\n",
       "      <td>0.505200</td>\n",
       "      <td>0.597806</td>\n",
       "      <td>0.500000</td>\n",
       "      <td>0.549054</td>\n",
       "      <td>0.055933</td>\n",
       "      <td>1</td>\n",
       "      <td>56.803786</td>\n",
       "      <td>7.278916</td>\n",
       "      <td>1.320740</td>\n",
       "      <td>0.224903</td>\n",
       "      <td>0.010000</td>\n",
       "      <td>10.000000</td>\n",
       "      <td>100</td>\n",
       "      <td>500</td>\n",
       "      <td>500</td>\n",
       "      <td>{'cat_smooth': 0.01, 'learning_rate': 10.0, 'm...</td>\n",
       "    </tr>\n",
       "    <tr>\n",
       "      <th>11</th>\n",
       "      <td>0.925009</td>\n",
       "      <td>0.928366</td>\n",
       "      <td>0.932670</td>\n",
       "      <td>0.931376</td>\n",
       "      <td>0.918929</td>\n",
       "      <td>0.927270</td>\n",
       "      <td>0.004938</td>\n",
       "      <td>1</td>\n",
       "      <td>458.812729</td>\n",
       "      <td>63.946400</td>\n",
       "      <td>8.794174</td>\n",
       "      <td>2.018667</td>\n",
       "      <td>0.010000</td>\n",
       "      <td>0.033217</td>\n",
       "      <td>100</td>\n",
       "      <td>500</td>\n",
       "      <td>279</td>\n",
       "      <td>{'cat_smooth': 0.01, 'learning_rate': 0.033217...</td>\n",
       "    </tr>\n",
       "    <tr>\n",
       "      <th>12</th>\n",
       "      <td>0.917528</td>\n",
       "      <td>0.925341</td>\n",
       "      <td>0.928707</td>\n",
       "      <td>0.927179</td>\n",
       "      <td>0.916413</td>\n",
       "      <td>0.923034</td>\n",
       "      <td>0.005076</td>\n",
       "      <td>1</td>\n",
       "      <td>155.817344</td>\n",
       "      <td>22.033942</td>\n",
       "      <td>3.212989</td>\n",
       "      <td>0.591462</td>\n",
       "      <td>100.000000</td>\n",
       "      <td>0.042991</td>\n",
       "      <td>100</td>\n",
       "      <td>500</td>\n",
       "      <td>50</td>\n",
       "      <td>{'cat_smooth': 100.0, 'learning_rate': 0.04299...</td>\n",
       "    </tr>\n",
       "    <tr>\n",
       "      <th>13</th>\n",
       "      <td>0.869327</td>\n",
       "      <td>0.875770</td>\n",
       "      <td>0.867444</td>\n",
       "      <td>0.858412</td>\n",
       "      <td>0.863672</td>\n",
       "      <td>0.866925</td>\n",
       "      <td>0.005785</td>\n",
       "      <td>1</td>\n",
       "      <td>13.953324</td>\n",
       "      <td>1.920552</td>\n",
       "      <td>1.191547</td>\n",
       "      <td>0.216338</td>\n",
       "      <td>0.010000</td>\n",
       "      <td>0.053128</td>\n",
       "      <td>200</td>\n",
       "      <td>5</td>\n",
       "      <td>500</td>\n",
       "      <td>{'cat_smooth': 0.01, 'learning_rate': 0.053128...</td>\n",
       "    </tr>\n",
       "    <tr>\n",
       "      <th>14</th>\n",
       "      <td>0.908902</td>\n",
       "      <td>0.923705</td>\n",
       "      <td>0.925279</td>\n",
       "      <td>0.919575</td>\n",
       "      <td>0.911369</td>\n",
       "      <td>0.917766</td>\n",
       "      <td>0.006550</td>\n",
       "      <td>1</td>\n",
       "      <td>66.016072</td>\n",
       "      <td>8.956826</td>\n",
       "      <td>2.117424</td>\n",
       "      <td>0.306013</td>\n",
       "      <td>100.000000</td>\n",
       "      <td>0.045317</td>\n",
       "      <td>100</td>\n",
       "      <td>172</td>\n",
       "      <td>50</td>\n",
       "      <td>{'cat_smooth': 100.0, 'learning_rate': 0.04531...</td>\n",
       "    </tr>\n",
       "    <tr>\n",
       "      <th>15</th>\n",
       "      <td>0.921895</td>\n",
       "      <td>0.929877</td>\n",
       "      <td>0.932147</td>\n",
       "      <td>0.929926</td>\n",
       "      <td>0.917422</td>\n",
       "      <td>0.926253</td>\n",
       "      <td>0.005628</td>\n",
       "      <td>1</td>\n",
       "      <td>488.471294</td>\n",
       "      <td>74.409918</td>\n",
       "      <td>10.864173</td>\n",
       "      <td>1.826181</td>\n",
       "      <td>10.260945</td>\n",
       "      <td>0.038137</td>\n",
       "      <td>100</td>\n",
       "      <td>500</td>\n",
       "      <td>312</td>\n",
       "      <td>{'cat_smooth': 10.260945196827409, 'learning_r...</td>\n",
       "    </tr>\n",
       "    <tr>\n",
       "      <th>16</th>\n",
       "      <td>0.923543</td>\n",
       "      <td>0.928655</td>\n",
       "      <td>0.935519</td>\n",
       "      <td>0.932661</td>\n",
       "      <td>0.922103</td>\n",
       "      <td>0.928496</td>\n",
       "      <td>0.005140</td>\n",
       "      <td>1</td>\n",
       "      <td>272.549136</td>\n",
       "      <td>43.727165</td>\n",
       "      <td>4.582726</td>\n",
       "      <td>0.920783</td>\n",
       "      <td>100.000000</td>\n",
       "      <td>0.039583</td>\n",
       "      <td>200</td>\n",
       "      <td>324</td>\n",
       "      <td>243</td>\n",
       "      <td>{'cat_smooth': 100.0, 'learning_rate': 0.03958...</td>\n",
       "    </tr>\n",
       "    <tr>\n",
       "      <th>17</th>\n",
       "      <td>0.914260</td>\n",
       "      <td>0.921669</td>\n",
       "      <td>0.931680</td>\n",
       "      <td>0.918643</td>\n",
       "      <td>0.916002</td>\n",
       "      <td>0.920451</td>\n",
       "      <td>0.006147</td>\n",
       "      <td>1</td>\n",
       "      <td>236.710114</td>\n",
       "      <td>34.747077</td>\n",
       "      <td>4.536123</td>\n",
       "      <td>1.001928</td>\n",
       "      <td>100.000000</td>\n",
       "      <td>0.130769</td>\n",
       "      <td>200</td>\n",
       "      <td>224</td>\n",
       "      <td>500</td>\n",
       "      <td>{'cat_smooth': 100.0, 'learning_rate': 0.13076...</td>\n",
       "    </tr>\n",
       "    <tr>\n",
       "      <th>18</th>\n",
       "      <td>0.812500</td>\n",
       "      <td>0.847526</td>\n",
       "      <td>0.841605</td>\n",
       "      <td>0.824101</td>\n",
       "      <td>0.801561</td>\n",
       "      <td>0.825459</td>\n",
       "      <td>0.017254</td>\n",
       "      <td>1</td>\n",
       "      <td>9.439973</td>\n",
       "      <td>1.186434</td>\n",
       "      <td>1.209387</td>\n",
       "      <td>0.162679</td>\n",
       "      <td>16.791787</td>\n",
       "      <td>0.419076</td>\n",
       "      <td>100</td>\n",
       "      <td>5</td>\n",
       "      <td>50</td>\n",
       "      <td>{'cat_smooth': 16.791787376016487, 'learning_r...</td>\n",
       "    </tr>\n",
       "    <tr>\n",
       "      <th>19</th>\n",
       "      <td>0.920636</td>\n",
       "      <td>0.928312</td>\n",
       "      <td>0.935527</td>\n",
       "      <td>0.926041</td>\n",
       "      <td>0.920366</td>\n",
       "      <td>0.926176</td>\n",
       "      <td>0.005594</td>\n",
       "      <td>1</td>\n",
       "      <td>645.666997</td>\n",
       "      <td>84.731197</td>\n",
       "      <td>10.125188</td>\n",
       "      <td>0.688499</td>\n",
       "      <td>1.064069</td>\n",
       "      <td>0.015101</td>\n",
       "      <td>200</td>\n",
       "      <td>500</td>\n",
       "      <td>500</td>\n",
       "      <td>{'cat_smooth': 1.0640693008044952, 'learning_r...</td>\n",
       "    </tr>\n",
       "    <tr>\n",
       "      <th>20</th>\n",
       "      <td>0.818467</td>\n",
       "      <td>0.820310</td>\n",
       "      <td>0.809566</td>\n",
       "      <td>0.782516</td>\n",
       "      <td>0.786064</td>\n",
       "      <td>0.803384</td>\n",
       "      <td>0.016048</td>\n",
       "      <td>1</td>\n",
       "      <td>13.605278</td>\n",
       "      <td>1.734594</td>\n",
       "      <td>1.274684</td>\n",
       "      <td>0.219918</td>\n",
       "      <td>0.010000</td>\n",
       "      <td>0.000100</td>\n",
       "      <td>100</td>\n",
       "      <td>5</td>\n",
       "      <td>500</td>\n",
       "      <td>{'cat_smooth': 0.01, 'learning_rate': 0.0001, ...</td>\n",
       "    </tr>\n",
       "    <tr>\n",
       "      <th>21</th>\n",
       "      <td>0.862886</td>\n",
       "      <td>0.864106</td>\n",
       "      <td>0.877708</td>\n",
       "      <td>0.857681</td>\n",
       "      <td>0.857014</td>\n",
       "      <td>0.863879</td>\n",
       "      <td>0.007454</td>\n",
       "      <td>1</td>\n",
       "      <td>556.720610</td>\n",
       "      <td>84.140369</td>\n",
       "      <td>8.590818</td>\n",
       "      <td>1.070639</td>\n",
       "      <td>100.000000</td>\n",
       "      <td>0.000100</td>\n",
       "      <td>200</td>\n",
       "      <td>500</td>\n",
       "      <td>500</td>\n",
       "      <td>{'cat_smooth': 100.0, 'learning_rate': 0.0001,...</td>\n",
       "    </tr>\n",
       "    <tr>\n",
       "      <th>22</th>\n",
       "      <td>0.917251</td>\n",
       "      <td>0.926470</td>\n",
       "      <td>0.934855</td>\n",
       "      <td>0.923601</td>\n",
       "      <td>0.917768</td>\n",
       "      <td>0.923989</td>\n",
       "      <td>0.006457</td>\n",
       "      <td>1</td>\n",
       "      <td>381.796172</td>\n",
       "      <td>57.497914</td>\n",
       "      <td>7.270014</td>\n",
       "      <td>0.982467</td>\n",
       "      <td>100.000000</td>\n",
       "      <td>0.070523</td>\n",
       "      <td>100</td>\n",
       "      <td>305</td>\n",
       "      <td>500</td>\n",
       "      <td>{'cat_smooth': 100.0, 'learning_rate': 0.07052...</td>\n",
       "    </tr>\n",
       "    <tr>\n",
       "      <th>23</th>\n",
       "      <td>0.911170</td>\n",
       "      <td>0.925108</td>\n",
       "      <td>0.928370</td>\n",
       "      <td>0.923040</td>\n",
       "      <td>0.911403</td>\n",
       "      <td>0.919818</td>\n",
       "      <td>0.007171</td>\n",
       "      <td>1</td>\n",
       "      <td>169.409254</td>\n",
       "      <td>23.522860</td>\n",
       "      <td>3.422408</td>\n",
       "      <td>0.431612</td>\n",
       "      <td>0.010000</td>\n",
       "      <td>0.016583</td>\n",
       "      <td>200</td>\n",
       "      <td>500</td>\n",
       "      <td>50</td>\n",
       "      <td>{'cat_smooth': 0.01, 'learning_rate': 0.016582...</td>\n",
       "    </tr>\n",
       "    <tr>\n",
       "      <th>24</th>\n",
       "      <td>0.916379</td>\n",
       "      <td>0.925285</td>\n",
       "      <td>0.935828</td>\n",
       "      <td>0.921866</td>\n",
       "      <td>0.915638</td>\n",
       "      <td>0.922999</td>\n",
       "      <td>0.007336</td>\n",
       "      <td>1</td>\n",
       "      <td>547.574606</td>\n",
       "      <td>69.277795</td>\n",
       "      <td>11.876386</td>\n",
       "      <td>2.487742</td>\n",
       "      <td>0.326802</td>\n",
       "      <td>0.054796</td>\n",
       "      <td>200</td>\n",
       "      <td>500</td>\n",
       "      <td>500</td>\n",
       "      <td>{'cat_smooth': 0.32680185254254956, 'learning_...</td>\n",
       "    </tr>\n",
       "  </tbody>\n",
       "</table>\n",
       "</div>"
      ],
      "text/plain": [
       "    split0_test_score  split1_test_score  split2_test_score  \\\n",
       "0            0.920713           0.930098           0.934660   \n",
       "1            0.876588           0.880306           0.885854   \n",
       "2            0.921865           0.925400           0.930658   \n",
       "3            0.909752           0.920108           0.929439   \n",
       "4            0.872817           0.881687           0.880331   \n",
       "5            0.899114           0.909168           0.915673   \n",
       "6            0.888599           0.896400           0.903914   \n",
       "7            0.862828           0.874220           0.879370   \n",
       "8            0.917652           0.927137           0.927717   \n",
       "9            0.870472           0.877808           0.882025   \n",
       "10           0.634224           0.508040           0.505200   \n",
       "11           0.925009           0.928366           0.932670   \n",
       "12           0.917528           0.925341           0.928707   \n",
       "13           0.869327           0.875770           0.867444   \n",
       "14           0.908902           0.923705           0.925279   \n",
       "15           0.921895           0.929877           0.932147   \n",
       "16           0.923543           0.928655           0.935519   \n",
       "17           0.914260           0.921669           0.931680   \n",
       "18           0.812500           0.847526           0.841605   \n",
       "19           0.920636           0.928312           0.935527   \n",
       "20           0.818467           0.820310           0.809566   \n",
       "21           0.862886           0.864106           0.877708   \n",
       "22           0.917251           0.926470           0.934855   \n",
       "23           0.911170           0.925108           0.928370   \n",
       "24           0.916379           0.925285           0.935828   \n",
       "\n",
       "    split3_test_score  split4_test_score  mean_test_score  std_test_score  \\\n",
       "0            0.929502           0.920109         0.927016        0.005684   \n",
       "1            0.879638           0.870276         0.878532        0.005097   \n",
       "2            0.928323           0.914633         0.924176        0.005606   \n",
       "3            0.920795           0.908037         0.917626        0.007870   \n",
       "4            0.875224           0.862577         0.874527        0.006800   \n",
       "5            0.908226           0.899550         0.906346        0.006277   \n",
       "6            0.895487           0.886524         0.894185        0.006183   \n",
       "7            0.861746           0.861376         0.867908        0.007452   \n",
       "8            0.928203           0.913839         0.922909        0.005982   \n",
       "9            0.874893           0.862540         0.873548        0.006670   \n",
       "10           0.597806           0.500000         0.549054        0.055933   \n",
       "11           0.931376           0.918929         0.927270        0.004938   \n",
       "12           0.927179           0.916413         0.923034        0.005076   \n",
       "13           0.858412           0.863672         0.866925        0.005785   \n",
       "14           0.919575           0.911369         0.917766        0.006550   \n",
       "15           0.929926           0.917422         0.926253        0.005628   \n",
       "16           0.932661           0.922103         0.928496        0.005140   \n",
       "17           0.918643           0.916002         0.920451        0.006147   \n",
       "18           0.824101           0.801561         0.825459        0.017254   \n",
       "19           0.926041           0.920366         0.926176        0.005594   \n",
       "20           0.782516           0.786064         0.803384        0.016048   \n",
       "21           0.857681           0.857014         0.863879        0.007454   \n",
       "22           0.923601           0.917768         0.923989        0.006457   \n",
       "23           0.923040           0.911403         0.919818        0.007171   \n",
       "24           0.921866           0.915638         0.922999        0.007336   \n",
       "\n",
       "    rank_test_score  mean_fit_time  std_fit_time  mean_score_time  \\\n",
       "0                 1     448.362076     60.808497         7.614456   \n",
       "1                 1     313.344900     44.434468         3.484273   \n",
       "2                 1     180.823442     25.874987         3.894945   \n",
       "3                 1     404.535556     58.035957         5.249114   \n",
       "4                 1     414.466956     58.447222         5.004453   \n",
       "5                 1     317.668125     47.572313         3.634090   \n",
       "6                 1     161.998003     24.148234         2.147656   \n",
       "7                 1     248.186615     39.451280         2.924804   \n",
       "8                 1      87.568913     12.843199         2.211731   \n",
       "9                 1     381.957181     55.488352         4.802622   \n",
       "10                1      56.803786      7.278916         1.320740   \n",
       "11                1     458.812729     63.946400         8.794174   \n",
       "12                1     155.817344     22.033942         3.212989   \n",
       "13                1      13.953324      1.920552         1.191547   \n",
       "14                1      66.016072      8.956826         2.117424   \n",
       "15                1     488.471294     74.409918        10.864173   \n",
       "16                1     272.549136     43.727165         4.582726   \n",
       "17                1     236.710114     34.747077         4.536123   \n",
       "18                1       9.439973      1.186434         1.209387   \n",
       "19                1     645.666997     84.731197        10.125188   \n",
       "20                1      13.605278      1.734594         1.274684   \n",
       "21                1     556.720610     84.140369         8.590818   \n",
       "22                1     381.796172     57.497914         7.270014   \n",
       "23                1     169.409254     23.522860         3.422408   \n",
       "24                1     547.574606     69.277795        11.876386   \n",
       "\n",
       "    std_score_time  param_cat_smooth  param_learning_rate  param_max_depth  \\\n",
       "0         1.809602          1.121284             0.027951              188   \n",
       "1         0.312763          5.758759             0.001042              161   \n",
       "2         0.696684          1.117950             0.089945              116   \n",
       "3         0.374753          0.044411             0.006999              113   \n",
       "4         0.677556          1.960253             0.000291              102   \n",
       "5         0.410271         15.768610             0.005766              138   \n",
       "6         0.391815         20.840250             0.005900              178   \n",
       "7         0.611296         12.002001             0.000298              167   \n",
       "8         0.330321         20.132734             0.092967              111   \n",
       "9         1.172295          1.062311             0.000438              197   \n",
       "10        0.224903          0.010000            10.000000              100   \n",
       "11        2.018667          0.010000             0.033217              100   \n",
       "12        0.591462        100.000000             0.042991              100   \n",
       "13        0.216338          0.010000             0.053128              200   \n",
       "14        0.306013        100.000000             0.045317              100   \n",
       "15        1.826181         10.260945             0.038137              100   \n",
       "16        0.920783        100.000000             0.039583              200   \n",
       "17        1.001928        100.000000             0.130769              200   \n",
       "18        0.162679         16.791787             0.419076              100   \n",
       "19        0.688499          1.064069             0.015101              200   \n",
       "20        0.219918          0.010000             0.000100              100   \n",
       "21        1.070639        100.000000             0.000100              200   \n",
       "22        0.982467        100.000000             0.070523              100   \n",
       "23        0.431612          0.010000             0.016583              200   \n",
       "24        2.487742          0.326802             0.054796              200   \n",
       "\n",
       "    param_n_estimators  param_num_leaves  \\\n",
       "0                  347               440   \n",
       "1                  357               295   \n",
       "2                  382                98   \n",
       "3                  423               302   \n",
       "4                  450               342   \n",
       "5                  293               400   \n",
       "6                  165               336   \n",
       "7                  234               438   \n",
       "8                  101               216   \n",
       "9                  488               282   \n",
       "10                 500               500   \n",
       "11                 500               279   \n",
       "12                 500                50   \n",
       "13                   5               500   \n",
       "14                 172                50   \n",
       "15                 500               312   \n",
       "16                 324               243   \n",
       "17                 224               500   \n",
       "18                   5                50   \n",
       "19                 500               500   \n",
       "20                   5               500   \n",
       "21                 500               500   \n",
       "22                 305               500   \n",
       "23                 500                50   \n",
       "24                 500               500   \n",
       "\n",
       "                                               params  \n",
       "0   {'cat_smooth': 1.1212838179340168, 'learning_r...  \n",
       "1   {'cat_smooth': 5.758759483695491, 'learning_ra...  \n",
       "2   {'cat_smooth': 1.1179499887779936, 'learning_r...  \n",
       "3   {'cat_smooth': 0.04441100771869763, 'learning_...  \n",
       "4   {'cat_smooth': 1.9602528092191487, 'learning_r...  \n",
       "5   {'cat_smooth': 15.768610392996079, 'learning_r...  \n",
       "6   {'cat_smooth': 20.840249687189242, 'learning_r...  \n",
       "7   {'cat_smooth': 12.002001139678356, 'learning_r...  \n",
       "8   {'cat_smooth': 20.13273448390463, 'learning_ra...  \n",
       "9   {'cat_smooth': 1.0623114043775155, 'learning_r...  \n",
       "10  {'cat_smooth': 0.01, 'learning_rate': 10.0, 'm...  \n",
       "11  {'cat_smooth': 0.01, 'learning_rate': 0.033217...  \n",
       "12  {'cat_smooth': 100.0, 'learning_rate': 0.04299...  \n",
       "13  {'cat_smooth': 0.01, 'learning_rate': 0.053128...  \n",
       "14  {'cat_smooth': 100.0, 'learning_rate': 0.04531...  \n",
       "15  {'cat_smooth': 10.260945196827409, 'learning_r...  \n",
       "16  {'cat_smooth': 100.0, 'learning_rate': 0.03958...  \n",
       "17  {'cat_smooth': 100.0, 'learning_rate': 0.13076...  \n",
       "18  {'cat_smooth': 16.791787376016487, 'learning_r...  \n",
       "19  {'cat_smooth': 1.0640693008044952, 'learning_r...  \n",
       "20  {'cat_smooth': 0.01, 'learning_rate': 0.0001, ...  \n",
       "21  {'cat_smooth': 100.0, 'learning_rate': 0.0001,...  \n",
       "22  {'cat_smooth': 100.0, 'learning_rate': 0.07052...  \n",
       "23  {'cat_smooth': 0.01, 'learning_rate': 0.016582...  \n",
       "24  {'cat_smooth': 0.32680185254254956, 'learning_...  "
      ]
     },
     "execution_count": 39,
     "metadata": {},
     "output_type": "execute_result"
    }
   ],
   "source": [
    "pd.DataFrame(est3.cv_results_)"
   ]
  },
  {
   "cell_type": "code",
   "execution_count": 42,
   "metadata": {},
   "outputs": [
    {
     "data": {
      "text/plain": [
       "{'boosting_type': 'gbdt',\n",
       " 'class_weight': None,\n",
       " 'colsample_bytree': 1.0,\n",
       " 'importance_type': 'split',\n",
       " 'learning_rate': 0.03958268464619738,\n",
       " 'max_depth': 200,\n",
       " 'min_child_samples': 20,\n",
       " 'min_child_weight': 0.001,\n",
       " 'min_split_gain': 0.0,\n",
       " 'n_estimators': 324,\n",
       " 'n_jobs': -1,\n",
       " 'num_leaves': 243,\n",
       " 'objective': None,\n",
       " 'random_state': None,\n",
       " 'reg_alpha': 0.0,\n",
       " 'reg_lambda': 0.0,\n",
       " 'silent': True,\n",
       " 'subsample': 1.0,\n",
       " 'subsample_for_bin': 200000,\n",
       " 'subsample_freq': 0,\n",
       " 'cat_smooth': 100.0}"
      ]
     },
     "execution_count": 42,
     "metadata": {},
     "output_type": "execute_result"
    }
   ],
   "source": [
    "est3.best_estimator_.get_params()"
   ]
  },
  {
   "cell_type": "code",
   "execution_count": null,
   "metadata": {},
   "outputs": [],
   "source": []
  }
 ],
 "metadata": {
  "kernelspec": {
   "display_name": "Python 3",
   "language": "python",
   "name": "python3"
  },
  "language_info": {
   "codemirror_mode": {
    "name": "ipython",
    "version": 3
   },
   "file_extension": ".py",
   "mimetype": "text/x-python",
   "name": "python",
   "nbconvert_exporter": "python",
   "pygments_lexer": "ipython3",
   "version": "3.7.3"
  },
  "toc": {
   "base_numbering": 1,
   "nav_menu": {},
   "number_sections": true,
   "sideBar": true,
   "skip_h1_title": false,
   "title_cell": "Table of Contents",
   "title_sidebar": "Contents",
   "toc_cell": false,
   "toc_position": {},
   "toc_section_display": true,
   "toc_window_display": false
  }
 },
 "nbformat": 4,
 "nbformat_minor": 4
}
